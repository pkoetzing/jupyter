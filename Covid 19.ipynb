{
 "cells": [
  {
   "cell_type": "markdown",
   "metadata": {},
   "source": [
    "# WHO Coronavirus Disease (COVID-19) Dashboard\n",
    "\n",
    "https://covid19.who.int"
   ]
  },
  {
   "cell_type": "markdown",
   "metadata": {},
   "source": [
    "## Python text strings"
   ]
  },
  {
   "cell_type": "code",
   "execution_count": 2,
   "metadata": {},
   "outputs": [
    {
     "data": {
      "text/plain": [
       "'https://covid19.who.int/'"
      ]
     },
     "execution_count": 2,
     "metadata": {},
     "output_type": "execute_result"
    }
   ],
   "source": [
    "'https://' 'covid19.who.int/'"
   ]
  },
  {
   "cell_type": "code",
   "execution_count": 3,
   "metadata": {},
   "outputs": [],
   "source": [
    "site = 'https://covid19.who.int/'"
   ]
  },
  {
   "cell_type": "code",
   "execution_count": 4,
   "metadata": {},
   "outputs": [
    {
     "data": {
      "text/plain": [
       "'https://covid19.who.int/'"
      ]
     },
     "execution_count": 4,
     "metadata": {},
     "output_type": "execute_result"
    }
   ],
   "source": [
    "site"
   ]
  },
  {
   "cell_type": "code",
   "execution_count": 5,
   "metadata": {},
   "outputs": [
    {
     "name": "stdout",
     "output_type": "stream",
     "text": [
      "https://covid19.who.int/\n"
     ]
    }
   ],
   "source": [
    "print(site)"
   ]
  },
  {
   "cell_type": "markdown",
   "metadata": {},
   "source": [
    "### Indexing operator '[ ]'"
   ]
  },
  {
   "cell_type": "code",
   "execution_count": 6,
   "metadata": {},
   "outputs": [
    {
     "data": {
      "text/plain": [
       "'/'"
      ]
     },
     "execution_count": 6,
     "metadata": {},
     "output_type": "execute_result"
    }
   ],
   "source": [
    "site[-1]"
   ]
  },
  {
   "cell_type": "code",
   "execution_count": 7,
   "metadata": {},
   "outputs": [
    {
     "data": {
      "text/plain": [
       "'https'"
      ]
     },
     "execution_count": 7,
     "metadata": {},
     "output_type": "execute_result"
    }
   ],
   "source": [
    "site[:5]"
   ]
  },
  {
   "cell_type": "code",
   "execution_count": 8,
   "metadata": {},
   "outputs": [
    {
     "data": {
      "text/plain": [
       "slice(None, 5, None)"
      ]
     },
     "execution_count": 8,
     "metadata": {},
     "output_type": "execute_result"
    }
   ],
   "source": [
    "x = slice(5)\n",
    "x"
   ]
  },
  {
   "cell_type": "code",
   "execution_count": 9,
   "metadata": {},
   "outputs": [
    {
     "data": {
      "text/plain": [
       "'https'"
      ]
     },
     "execution_count": 9,
     "metadata": {},
     "output_type": "execute_result"
    }
   ],
   "source": [
    "site[x]"
   ]
  },
  {
   "cell_type": "code",
   "execution_count": 10,
   "metadata": {},
   "outputs": [
    {
     "data": {
      "text/plain": [
       "'nt'"
      ]
     },
     "execution_count": 10,
     "metadata": {},
     "output_type": "execute_result"
    }
   ],
   "source": [
    "site[-3:-1]"
   ]
  },
  {
   "cell_type": "code",
   "execution_count": 11,
   "metadata": {},
   "outputs": [
    {
     "data": {
      "text/plain": [
       "slice(-3, None, None)"
      ]
     },
     "execution_count": 11,
     "metadata": {},
     "output_type": "execute_result"
    }
   ],
   "source": [
    "x = slice(-3, None)\n",
    "x"
   ]
  },
  {
   "cell_type": "code",
   "execution_count": 12,
   "metadata": {},
   "outputs": [
    {
     "data": {
      "text/plain": [
       "'nt/'"
      ]
     },
     "execution_count": 12,
     "metadata": {},
     "output_type": "execute_result"
    }
   ],
   "source": [
    "site[x]"
   ]
  },
  {
   "cell_type": "code",
   "execution_count": 13,
   "metadata": {},
   "outputs": [
    {
     "data": {
      "text/plain": [
       "'/tni.ohw.91divoc//:sptth'"
      ]
     },
     "execution_count": 13,
     "metadata": {},
     "output_type": "execute_result"
    }
   ],
   "source": [
    "site[::-1]"
   ]
  },
  {
   "cell_type": "code",
   "execution_count": 14,
   "metadata": {},
   "outputs": [
    {
     "data": {
      "text/plain": [
       "'HTTPS://COVID19.WHO.INT/'"
      ]
     },
     "execution_count": 14,
     "metadata": {},
     "output_type": "execute_result"
    }
   ],
   "source": [
    "site.upper()"
   ]
  },
  {
   "cell_type": "code",
   "execution_count": 15,
   "metadata": {},
   "outputs": [],
   "source": [
    "csv = 'WHO-COVID-19-global-data.csv'"
   ]
  },
  {
   "cell_type": "code",
   "execution_count": 16,
   "metadata": {},
   "outputs": [
    {
     "data": {
      "text/plain": [
       "'https://covid19.who.int/WHO-COVID-19-global-data.csv'"
      ]
     },
     "execution_count": 16,
     "metadata": {},
     "output_type": "execute_result"
    }
   ],
   "source": [
    "site + csv"
   ]
  },
  {
   "cell_type": "markdown",
   "metadata": {},
   "source": [
    "#  Import a 3rd party package:"
   ]
  },
  {
   "cell_type": "code",
   "execution_count": 17,
   "metadata": {},
   "outputs": [],
   "source": [
    "import pandas as pd"
   ]
  },
  {
   "cell_type": "code",
   "execution_count": 18,
   "metadata": {},
   "outputs": [
    {
     "data": {
      "text/plain": [
       "['BooleanDtype',\n",
       " 'Categorical',\n",
       " 'CategoricalDtype',\n",
       " 'CategoricalIndex',\n",
       " 'DataFrame',\n",
       " 'DateOffset',\n",
       " 'DatetimeIndex',\n",
       " 'DatetimeTZDtype',\n",
       " 'ExcelFile',\n",
       " 'ExcelWriter',\n",
       " 'Float64Index',\n",
       " 'Grouper',\n",
       " 'HDFStore',\n",
       " 'Index',\n",
       " 'IndexSlice',\n",
       " 'Int16Dtype',\n",
       " 'Int32Dtype',\n",
       " 'Int64Dtype',\n",
       " 'Int64Index',\n",
       " 'Int8Dtype',\n",
       " 'Interval',\n",
       " 'IntervalDtype',\n",
       " 'IntervalIndex',\n",
       " 'MultiIndex',\n",
       " 'NA',\n",
       " 'NaT',\n",
       " 'NamedAgg',\n",
       " 'Period',\n",
       " 'PeriodDtype',\n",
       " 'PeriodIndex',\n",
       " 'RangeIndex',\n",
       " 'Series',\n",
       " 'SparseDtype',\n",
       " 'StringDtype',\n",
       " 'Timedelta',\n",
       " 'TimedeltaIndex',\n",
       " 'Timestamp',\n",
       " 'UInt16Dtype',\n",
       " 'UInt32Dtype',\n",
       " 'UInt64Dtype',\n",
       " 'UInt64Index',\n",
       " 'UInt8Dtype',\n",
       " '__builtins__',\n",
       " '__cached__',\n",
       " '__doc__',\n",
       " '__docformat__',\n",
       " '__file__',\n",
       " '__getattr__',\n",
       " '__git_version__',\n",
       " '__loader__',\n",
       " '__name__',\n",
       " '__package__',\n",
       " '__path__',\n",
       " '__spec__',\n",
       " '__version__',\n",
       " '_config',\n",
       " '_hashtable',\n",
       " '_lib',\n",
       " '_libs',\n",
       " '_np_version_under1p14',\n",
       " '_np_version_under1p15',\n",
       " '_np_version_under1p16',\n",
       " '_np_version_under1p17',\n",
       " '_np_version_under1p18',\n",
       " '_testing',\n",
       " '_tslib',\n",
       " '_typing',\n",
       " '_version',\n",
       " 'api',\n",
       " 'array',\n",
       " 'arrays',\n",
       " 'bdate_range',\n",
       " 'compat',\n",
       " 'concat',\n",
       " 'core',\n",
       " 'crosstab',\n",
       " 'cut',\n",
       " 'date_range',\n",
       " 'describe_option',\n",
       " 'errors',\n",
       " 'eval',\n",
       " 'factorize',\n",
       " 'get_dummies',\n",
       " 'get_option',\n",
       " 'infer_freq',\n",
       " 'interval_range',\n",
       " 'io',\n",
       " 'isna',\n",
       " 'isnull',\n",
       " 'json_normalize',\n",
       " 'lreshape',\n",
       " 'melt',\n",
       " 'merge',\n",
       " 'merge_asof',\n",
       " 'merge_ordered',\n",
       " 'notna',\n",
       " 'notnull',\n",
       " 'offsets',\n",
       " 'option_context',\n",
       " 'options',\n",
       " 'pandas',\n",
       " 'period_range',\n",
       " 'pivot',\n",
       " 'pivot_table',\n",
       " 'plotting',\n",
       " 'qcut',\n",
       " 'read_clipboard',\n",
       " 'read_csv',\n",
       " 'read_excel',\n",
       " 'read_feather',\n",
       " 'read_fwf',\n",
       " 'read_gbq',\n",
       " 'read_hdf',\n",
       " 'read_html',\n",
       " 'read_json',\n",
       " 'read_orc',\n",
       " 'read_parquet',\n",
       " 'read_pickle',\n",
       " 'read_sas',\n",
       " 'read_spss',\n",
       " 'read_sql',\n",
       " 'read_sql_query',\n",
       " 'read_sql_table',\n",
       " 'read_stata',\n",
       " 'read_table',\n",
       " 'reset_option',\n",
       " 'set_eng_float_format',\n",
       " 'set_option',\n",
       " 'show_versions',\n",
       " 'test',\n",
       " 'testing',\n",
       " 'timedelta_range',\n",
       " 'to_datetime',\n",
       " 'to_numeric',\n",
       " 'to_pickle',\n",
       " 'to_timedelta',\n",
       " 'tseries',\n",
       " 'unique',\n",
       " 'util',\n",
       " 'value_counts',\n",
       " 'wide_to_long']"
      ]
     },
     "execution_count": 18,
     "metadata": {},
     "output_type": "execute_result"
    }
   ],
   "source": [
    "dir(pd)"
   ]
  },
  {
   "cell_type": "code",
   "execution_count": 19,
   "metadata": {},
   "outputs": [
    {
     "data": {
      "text/plain": [
       "'1.0.1'"
      ]
     },
     "execution_count": 19,
     "metadata": {},
     "output_type": "execute_result"
    }
   ],
   "source": [
    "pd.__version__"
   ]
  },
  {
   "cell_type": "code",
   "execution_count": 20,
   "metadata": {},
   "outputs": [],
   "source": [
    "df = pd.read_csv(site + csv)"
   ]
  },
  {
   "cell_type": "markdown",
   "metadata": {},
   "source": [
    "## Understanding the DataFrame"
   ]
  },
  {
   "cell_type": "code",
   "execution_count": 21,
   "metadata": {},
   "outputs": [
    {
     "name": "stdout",
     "output_type": "stream",
     "text": [
      "      Date_reported  Country_code      Country  WHO_region   New_cases  \\\n",
      "0        2020-02-24            AF  Afghanistan        EMRO           1   \n",
      "1        2020-02-25            AF  Afghanistan        EMRO           0   \n",
      "2        2020-02-26            AF  Afghanistan        EMRO           0   \n",
      "3        2020-02-27            AF  Afghanistan        EMRO           0   \n",
      "4        2020-02-28            AF  Afghanistan        EMRO           0   \n",
      "...             ...           ...          ...         ...         ...   \n",
      "31436    2020-07-25            ZW     Zimbabwe        AFRO         172   \n",
      "31437    2020-07-26            ZW     Zimbabwe        AFRO         138   \n",
      "31438    2020-07-27            ZW     Zimbabwe        AFRO          78   \n",
      "31439    2020-07-28            ZW     Zimbabwe        AFRO         192   \n",
      "31440    2020-07-29            ZW     Zimbabwe        AFRO         113   \n",
      "\n",
      "        Cumulative_cases   New_deaths   Cumulative_deaths  \n",
      "0                      1            0                   0  \n",
      "1                      1            0                   0  \n",
      "2                      1            0                   0  \n",
      "3                      1            0                   0  \n",
      "4                      1            0                   0  \n",
      "...                  ...          ...                 ...  \n",
      "31436               2296            4                  32  \n",
      "31437               2434            2                  34  \n",
      "31438               2512            0                  34  \n",
      "31439               2704            2                  36  \n",
      "31440               2817            4                  40  \n",
      "\n",
      "[31441 rows x 8 columns]\n"
     ]
    }
   ],
   "source": [
    "print(df)"
   ]
  },
  {
   "cell_type": "code",
   "execution_count": 25,
   "metadata": {},
   "outputs": [
    {
     "name": "stdout",
     "output_type": "stream",
     "text": [
      "<class 'pandas.core.frame.DataFrame'>\n",
      "RangeIndex: 31441 entries, 0 to 31440\n",
      "Data columns (total 8 columns):\n",
      " #   Column              Non-Null Count  Dtype \n",
      "---  ------              --------------  ----- \n",
      " 0   Date_reported       31441 non-null  object\n",
      " 1    Country_code       31303 non-null  object\n",
      " 2    Country            31441 non-null  object\n",
      " 3    WHO_region         31441 non-null  object\n",
      " 4    New_cases          31441 non-null  int64 \n",
      " 5    Cumulative_cases   31441 non-null  int64 \n",
      " 6    New_deaths         31441 non-null  int64 \n",
      " 7    Cumulative_deaths  31441 non-null  int64 \n",
      "dtypes: int64(4), object(4)\n",
      "memory usage: 1.9+ MB\n"
     ]
    }
   ],
   "source": [
    "df.info()"
   ]
  },
  {
   "cell_type": "code",
   "execution_count": 26,
   "metadata": {},
   "outputs": [
    {
     "data": {
      "text/plain": [
       "RangeIndex(start=0, stop=31441, step=1)"
      ]
     },
     "execution_count": 26,
     "metadata": {},
     "output_type": "execute_result"
    }
   ],
   "source": [
    "df.index"
   ]
  },
  {
   "cell_type": "code",
   "execution_count": 27,
   "metadata": {},
   "outputs": [
    {
     "data": {
      "text/plain": [
       "Index(['Date_reported', ' Country_code', ' Country', ' WHO_region',\n",
       "       ' New_cases', ' Cumulative_cases', ' New_deaths', ' Cumulative_deaths'],\n",
       "      dtype='object')"
      ]
     },
     "execution_count": 27,
     "metadata": {},
     "output_type": "execute_result"
    }
   ],
   "source": [
    "df.columns"
   ]
  },
  {
   "cell_type": "code",
   "execution_count": 28,
   "metadata": {},
   "outputs": [
    {
     "data": {
      "text/plain": [
       "Index(['Date_reported', 'Country_code', 'Country', 'WHO_region', 'New_cases',\n",
       "       'Cumulative_cases', 'New_deaths', 'Cumulative_deaths'],\n",
       "      dtype='object')"
      ]
     },
     "execution_count": 28,
     "metadata": {},
     "output_type": "execute_result"
    }
   ],
   "source": [
    "# take care of the empty spaces in the column names\n",
    "df.columns = df.columns.str.strip()\n",
    "df.columns"
   ]
  },
  {
   "cell_type": "code",
   "execution_count": 29,
   "metadata": {},
   "outputs": [
    {
     "data": {
      "text/plain": [
       "array([['2020-02-24', 'AF', 'Afghanistan', ..., 1, 0, 0],\n",
       "       ['2020-02-25', 'AF', 'Afghanistan', ..., 1, 0, 0],\n",
       "       ['2020-02-26', 'AF', 'Afghanistan', ..., 1, 0, 0],\n",
       "       ...,\n",
       "       ['2020-07-27', 'ZW', 'Zimbabwe', ..., 2512, 0, 34],\n",
       "       ['2020-07-28', 'ZW', 'Zimbabwe', ..., 2704, 2, 36],\n",
       "       ['2020-07-29', 'ZW', 'Zimbabwe', ..., 2817, 4, 40]], dtype=object)"
      ]
     },
     "execution_count": 29,
     "metadata": {},
     "output_type": "execute_result"
    }
   ],
   "source": [
    "df.values"
   ]
  },
  {
   "cell_type": "code",
   "execution_count": 30,
   "metadata": {},
   "outputs": [
    {
     "data": {
      "text/html": [
       "<div>\n",
       "<style scoped>\n",
       "    .dataframe tbody tr th:only-of-type {\n",
       "        vertical-align: middle;\n",
       "    }\n",
       "\n",
       "    .dataframe tbody tr th {\n",
       "        vertical-align: top;\n",
       "    }\n",
       "\n",
       "    .dataframe thead th {\n",
       "        text-align: right;\n",
       "    }\n",
       "</style>\n",
       "<table border=\"1\" class=\"dataframe\">\n",
       "  <thead>\n",
       "    <tr style=\"text-align: right;\">\n",
       "      <th></th>\n",
       "      <th>New_cases</th>\n",
       "      <th>Cumulative_cases</th>\n",
       "      <th>New_deaths</th>\n",
       "      <th>Cumulative_deaths</th>\n",
       "    </tr>\n",
       "  </thead>\n",
       "  <tbody>\n",
       "    <tr>\n",
       "      <th>count</th>\n",
       "      <td>31441.000000</td>\n",
       "      <td>3.144100e+04</td>\n",
       "      <td>31441.000000</td>\n",
       "      <td>31441.000000</td>\n",
       "    </tr>\n",
       "    <tr>\n",
       "      <th>mean</th>\n",
       "      <td>526.646385</td>\n",
       "      <td>2.650242e+04</td>\n",
       "      <td>20.867434</td>\n",
       "      <td>1390.141567</td>\n",
       "    </tr>\n",
       "    <tr>\n",
       "      <th>std</th>\n",
       "      <td>3185.294007</td>\n",
       "      <td>1.579157e+05</td>\n",
       "      <td>126.811506</td>\n",
       "      <td>7827.704188</td>\n",
       "    </tr>\n",
       "    <tr>\n",
       "      <th>min</th>\n",
       "      <td>-29726.000000</td>\n",
       "      <td>1.000000e+00</td>\n",
       "      <td>-514.000000</td>\n",
       "      <td>0.000000</td>\n",
       "    </tr>\n",
       "    <tr>\n",
       "      <th>25%</th>\n",
       "      <td>0.000000</td>\n",
       "      <td>4.500000e+01</td>\n",
       "      <td>0.000000</td>\n",
       "      <td>0.000000</td>\n",
       "    </tr>\n",
       "    <tr>\n",
       "      <th>50%</th>\n",
       "      <td>7.000000</td>\n",
       "      <td>6.090000e+02</td>\n",
       "      <td>0.000000</td>\n",
       "      <td>11.000000</td>\n",
       "    </tr>\n",
       "    <tr>\n",
       "      <th>75%</th>\n",
       "      <td>110.000000</td>\n",
       "      <td>5.679000e+03</td>\n",
       "      <td>2.000000</td>\n",
       "      <td>113.000000</td>\n",
       "    </tr>\n",
       "    <tr>\n",
       "      <th>max</th>\n",
       "      <td>74354.000000</td>\n",
       "      <td>4.263531e+06</td>\n",
       "      <td>6409.000000</td>\n",
       "      <td>147449.000000</td>\n",
       "    </tr>\n",
       "  </tbody>\n",
       "</table>\n",
       "</div>"
      ],
      "text/plain": [
       "          New_cases  Cumulative_cases    New_deaths  Cumulative_deaths\n",
       "count  31441.000000      3.144100e+04  31441.000000       31441.000000\n",
       "mean     526.646385      2.650242e+04     20.867434        1390.141567\n",
       "std     3185.294007      1.579157e+05    126.811506        7827.704188\n",
       "min   -29726.000000      1.000000e+00   -514.000000           0.000000\n",
       "25%        0.000000      4.500000e+01      0.000000           0.000000\n",
       "50%        7.000000      6.090000e+02      0.000000          11.000000\n",
       "75%      110.000000      5.679000e+03      2.000000         113.000000\n",
       "max    74354.000000      4.263531e+06   6409.000000      147449.000000"
      ]
     },
     "execution_count": 30,
     "metadata": {},
     "output_type": "execute_result"
    }
   ],
   "source": [
    "# surprisingly there are some negative deaths (\"resurrections\") in the data?\n",
    "df.describe()"
   ]
  },
  {
   "cell_type": "markdown",
   "metadata": {},
   "source": [
    "### Selection via column attribute"
   ]
  },
  {
   "cell_type": "code",
   "execution_count": 31,
   "metadata": {},
   "outputs": [
    {
     "data": {
      "text/plain": [
       "0        Afghanistan\n",
       "1        Afghanistan\n",
       "2        Afghanistan\n",
       "3        Afghanistan\n",
       "4        Afghanistan\n",
       "            ...     \n",
       "31436       Zimbabwe\n",
       "31437       Zimbabwe\n",
       "31438       Zimbabwe\n",
       "31439       Zimbabwe\n",
       "31440       Zimbabwe\n",
       "Name: Country, Length: 31441, dtype: object"
      ]
     },
     "execution_count": 31,
     "metadata": {},
     "output_type": "execute_result"
    }
   ],
   "source": [
    "df.Country"
   ]
  },
  {
   "cell_type": "code",
   "execution_count": 32,
   "metadata": {},
   "outputs": [
    {
     "data": {
      "text/plain": [
       "array(['Afghanistan', 'Albania', 'Algeria', 'Andorra', 'Angola',\n",
       "       'Anguilla', 'Antigua and Barbuda', 'Argentina', 'Armenia', 'Aruba',\n",
       "       'Australia', 'Austria', 'Azerbaijan', 'Bahamas', 'Bahrain',\n",
       "       'Bangladesh', 'Barbados', 'Belarus', 'Belgium', 'Belize', 'Benin',\n",
       "       'Bermuda', 'Bhutan', 'Bolivia (Plurinational State of)',\n",
       "       'Bonaire, Sint Eustatius and Saba', 'Bosnia and Herzegovina',\n",
       "       'Botswana', 'Brazil', 'British Virgin Islands',\n",
       "       'Brunei Darussalam', 'Bulgaria', 'Burkina Faso', 'Burundi',\n",
       "       'Cabo Verde', 'Cambodia', 'Cameroon', 'Canada', 'Cayman Islands',\n",
       "       'Central African Republic', 'Chad', 'Chile', 'China', 'Colombia',\n",
       "       'Comoros', 'Congo', 'Costa Rica', 'CÃ´te dâ\\x80\\x99Ivoire',\n",
       "       'Croatia', 'Cuba', 'CuraÃ§ao', 'Cyprus', 'Czechia',\n",
       "       'Democratic Republic of the Congo', 'Denmark', 'Djibouti',\n",
       "       'Dominica', 'Dominican Republic', 'Ecuador', 'Egypt',\n",
       "       'El Salvador', 'Equatorial Guinea', 'Eritrea', 'Estonia',\n",
       "       'Eswatini', 'Ethiopia', 'Falkland Islands (Malvinas)',\n",
       "       'Faroe Islands', 'Fiji', 'Finland', 'France', 'French Guiana',\n",
       "       'French Polynesia', 'Gabon', 'Gambia', 'Georgia', 'Germany',\n",
       "       'Ghana', 'Gibraltar', 'Greece', 'Greenland', 'Grenada',\n",
       "       'Guadeloupe', 'Guam', 'Guatemala', 'Guernsey', 'Guinea',\n",
       "       'Guinea-Bissau', 'Guyana', 'Haiti', 'Holy See', 'Honduras',\n",
       "       'Hungary', 'Iceland', 'India', 'Indonesia',\n",
       "       'Iran (Islamic Republic of)', 'Iraq', 'Ireland', 'Isle of Man',\n",
       "       'Israel', 'Italy', 'Jamaica', 'Japan', 'Jersey', 'Jordan',\n",
       "       'Kazakhstan', 'Kenya', 'Kosovo[1]', 'Kuwait', 'Kyrgyzstan',\n",
       "       \"Lao People's Democratic Republic\", 'Latvia', 'Lebanon', 'Lesotho',\n",
       "       'Liberia', 'Libya', 'Liechtenstein', 'Lithuania', 'Luxembourg',\n",
       "       'Madagascar', 'Malawi', 'Malaysia', 'Maldives', 'Mali', 'Malta',\n",
       "       'Martinique', 'Mauritania', 'Mauritius', 'Mayotte', 'Mexico',\n",
       "       'Monaco', 'Mongolia', 'Montenegro', 'Montserrat', 'Morocco',\n",
       "       'Mozambique', 'Myanmar', 'Namibia', 'Nepal', 'Netherlands',\n",
       "       'New Caledonia', 'New Zealand', 'Nicaragua', 'Niger', 'Nigeria',\n",
       "       'North Macedonia',\n",
       "       'Northern Mariana Islands (Commonwealth of the)', 'Norway',\n",
       "       'occupied Palestinian territory, including east Jerusalem', 'Oman',\n",
       "       'Other', 'Pakistan', 'Panama', 'Papua New Guinea', 'Paraguay',\n",
       "       'Peru', 'Philippines', 'Poland', 'Portugal', 'Puerto Rico',\n",
       "       'Qatar', 'Republic of Korea', 'Republic of Moldova', 'RÃ©union',\n",
       "       'Romania', 'Russian Federation', 'Rwanda', 'Saint BarthÃ©lemy',\n",
       "       'Saint Kitts and Nevis', 'Saint Lucia', 'Saint Martin',\n",
       "       'Saint Pierre and Miquelon', 'Saint Vincent and the Grenadines',\n",
       "       'San Marino', 'Sao Tome and Principe', 'Saudi Arabia', 'Senegal',\n",
       "       'Serbia', 'Seychelles', 'Sierra Leone', 'Singapore',\n",
       "       'Sint Maarten', 'Slovakia', 'Slovenia', 'Somalia', 'South Africa',\n",
       "       'South Sudan', 'Spain', 'Sri Lanka', 'Sudan', 'Suriname', 'Sweden',\n",
       "       'Switzerland', 'Syrian Arab Republic', 'Tajikistan', 'Thailand',\n",
       "       'The United Kingdom', 'Timor-Leste', 'Togo', 'Trinidad and Tobago',\n",
       "       'Tunisia', 'Turkey', 'Turks and Caicos Islands', 'Uganda',\n",
       "       'Ukraine', 'United Arab Emirates', 'United Republic of Tanzania',\n",
       "       'United States of America', 'United States Virgin Islands',\n",
       "       'Uruguay', 'Uzbekistan', 'Venezuela (Bolivarian Republic of)',\n",
       "       'Viet Nam', 'Yemen', 'Zambia', 'Zimbabwe'], dtype=object)"
      ]
     },
     "execution_count": 32,
     "metadata": {},
     "output_type": "execute_result"
    }
   ],
   "source": [
    "df.Country.unique()"
   ]
  },
  {
   "cell_type": "markdown",
   "metadata": {},
   "source": [
    "## Selection via indexing operator '[ ]'  \n",
    "- select columns by label"
   ]
  },
  {
   "cell_type": "code",
   "execution_count": 33,
   "metadata": {},
   "outputs": [
    {
     "data": {
      "text/html": [
       "<div>\n",
       "<style scoped>\n",
       "    .dataframe tbody tr th:only-of-type {\n",
       "        vertical-align: middle;\n",
       "    }\n",
       "\n",
       "    .dataframe tbody tr th {\n",
       "        vertical-align: top;\n",
       "    }\n",
       "\n",
       "    .dataframe thead th {\n",
       "        text-align: right;\n",
       "    }\n",
       "</style>\n",
       "<table border=\"1\" class=\"dataframe\">\n",
       "  <thead>\n",
       "    <tr style=\"text-align: right;\">\n",
       "      <th></th>\n",
       "      <th>Country</th>\n",
       "    </tr>\n",
       "  </thead>\n",
       "  <tbody>\n",
       "    <tr>\n",
       "      <th>0</th>\n",
       "      <td>Afghanistan</td>\n",
       "    </tr>\n",
       "    <tr>\n",
       "      <th>1</th>\n",
       "      <td>Afghanistan</td>\n",
       "    </tr>\n",
       "    <tr>\n",
       "      <th>2</th>\n",
       "      <td>Afghanistan</td>\n",
       "    </tr>\n",
       "    <tr>\n",
       "      <th>3</th>\n",
       "      <td>Afghanistan</td>\n",
       "    </tr>\n",
       "    <tr>\n",
       "      <th>4</th>\n",
       "      <td>Afghanistan</td>\n",
       "    </tr>\n",
       "    <tr>\n",
       "      <th>...</th>\n",
       "      <td>...</td>\n",
       "    </tr>\n",
       "    <tr>\n",
       "      <th>31436</th>\n",
       "      <td>Zimbabwe</td>\n",
       "    </tr>\n",
       "    <tr>\n",
       "      <th>31437</th>\n",
       "      <td>Zimbabwe</td>\n",
       "    </tr>\n",
       "    <tr>\n",
       "      <th>31438</th>\n",
       "      <td>Zimbabwe</td>\n",
       "    </tr>\n",
       "    <tr>\n",
       "      <th>31439</th>\n",
       "      <td>Zimbabwe</td>\n",
       "    </tr>\n",
       "    <tr>\n",
       "      <th>31440</th>\n",
       "      <td>Zimbabwe</td>\n",
       "    </tr>\n",
       "  </tbody>\n",
       "</table>\n",
       "<p>31441 rows × 1 columns</p>\n",
       "</div>"
      ],
      "text/plain": [
       "           Country\n",
       "0      Afghanistan\n",
       "1      Afghanistan\n",
       "2      Afghanistan\n",
       "3      Afghanistan\n",
       "4      Afghanistan\n",
       "...            ...\n",
       "31436     Zimbabwe\n",
       "31437     Zimbabwe\n",
       "31438     Zimbabwe\n",
       "31439     Zimbabwe\n",
       "31440     Zimbabwe\n",
       "\n",
       "[31441 rows x 1 columns]"
      ]
     },
     "execution_count": 33,
     "metadata": {},
     "output_type": "execute_result"
    }
   ],
   "source": [
    "df['Country'].to_frame()"
   ]
  },
  {
   "cell_type": "code",
   "execution_count": 34,
   "metadata": {},
   "outputs": [
    {
     "data": {
      "text/html": [
       "<div>\n",
       "<style scoped>\n",
       "    .dataframe tbody tr th:only-of-type {\n",
       "        vertical-align: middle;\n",
       "    }\n",
       "\n",
       "    .dataframe tbody tr th {\n",
       "        vertical-align: top;\n",
       "    }\n",
       "\n",
       "    .dataframe thead th {\n",
       "        text-align: right;\n",
       "    }\n",
       "</style>\n",
       "<table border=\"1\" class=\"dataframe\">\n",
       "  <thead>\n",
       "    <tr style=\"text-align: right;\">\n",
       "      <th></th>\n",
       "      <th>Country</th>\n",
       "      <th>WHO_region</th>\n",
       "    </tr>\n",
       "  </thead>\n",
       "  <tbody>\n",
       "    <tr>\n",
       "      <th>0</th>\n",
       "      <td>Afghanistan</td>\n",
       "      <td>EMRO</td>\n",
       "    </tr>\n",
       "    <tr>\n",
       "      <th>1</th>\n",
       "      <td>Afghanistan</td>\n",
       "      <td>EMRO</td>\n",
       "    </tr>\n",
       "    <tr>\n",
       "      <th>2</th>\n",
       "      <td>Afghanistan</td>\n",
       "      <td>EMRO</td>\n",
       "    </tr>\n",
       "    <tr>\n",
       "      <th>3</th>\n",
       "      <td>Afghanistan</td>\n",
       "      <td>EMRO</td>\n",
       "    </tr>\n",
       "    <tr>\n",
       "      <th>4</th>\n",
       "      <td>Afghanistan</td>\n",
       "      <td>EMRO</td>\n",
       "    </tr>\n",
       "    <tr>\n",
       "      <th>...</th>\n",
       "      <td>...</td>\n",
       "      <td>...</td>\n",
       "    </tr>\n",
       "    <tr>\n",
       "      <th>31436</th>\n",
       "      <td>Zimbabwe</td>\n",
       "      <td>AFRO</td>\n",
       "    </tr>\n",
       "    <tr>\n",
       "      <th>31437</th>\n",
       "      <td>Zimbabwe</td>\n",
       "      <td>AFRO</td>\n",
       "    </tr>\n",
       "    <tr>\n",
       "      <th>31438</th>\n",
       "      <td>Zimbabwe</td>\n",
       "      <td>AFRO</td>\n",
       "    </tr>\n",
       "    <tr>\n",
       "      <th>31439</th>\n",
       "      <td>Zimbabwe</td>\n",
       "      <td>AFRO</td>\n",
       "    </tr>\n",
       "    <tr>\n",
       "      <th>31440</th>\n",
       "      <td>Zimbabwe</td>\n",
       "      <td>AFRO</td>\n",
       "    </tr>\n",
       "  </tbody>\n",
       "</table>\n",
       "<p>31441 rows × 2 columns</p>\n",
       "</div>"
      ],
      "text/plain": [
       "           Country WHO_region\n",
       "0      Afghanistan       EMRO\n",
       "1      Afghanistan       EMRO\n",
       "2      Afghanistan       EMRO\n",
       "3      Afghanistan       EMRO\n",
       "4      Afghanistan       EMRO\n",
       "...            ...        ...\n",
       "31436     Zimbabwe       AFRO\n",
       "31437     Zimbabwe       AFRO\n",
       "31438     Zimbabwe       AFRO\n",
       "31439     Zimbabwe       AFRO\n",
       "31440     Zimbabwe       AFRO\n",
       "\n",
       "[31441 rows x 2 columns]"
      ]
     },
     "execution_count": 34,
     "metadata": {},
     "output_type": "execute_result"
    }
   ],
   "source": [
    "df[['Country', 'WHO_region']]"
   ]
  },
  {
   "cell_type": "markdown",
   "metadata": {},
   "source": [
    "- select rows by slice"
   ]
  },
  {
   "cell_type": "code",
   "execution_count": 35,
   "metadata": {},
   "outputs": [
    {
     "data": {
      "text/html": [
       "<div>\n",
       "<style scoped>\n",
       "    .dataframe tbody tr th:only-of-type {\n",
       "        vertical-align: middle;\n",
       "    }\n",
       "\n",
       "    .dataframe tbody tr th {\n",
       "        vertical-align: top;\n",
       "    }\n",
       "\n",
       "    .dataframe thead th {\n",
       "        text-align: right;\n",
       "    }\n",
       "</style>\n",
       "<table border=\"1\" class=\"dataframe\">\n",
       "  <thead>\n",
       "    <tr style=\"text-align: right;\">\n",
       "      <th></th>\n",
       "      <th>Date_reported</th>\n",
       "      <th>Country_code</th>\n",
       "      <th>Country</th>\n",
       "      <th>WHO_region</th>\n",
       "      <th>New_cases</th>\n",
       "      <th>Cumulative_cases</th>\n",
       "      <th>New_deaths</th>\n",
       "      <th>Cumulative_deaths</th>\n",
       "    </tr>\n",
       "  </thead>\n",
       "  <tbody>\n",
       "    <tr>\n",
       "      <th>31438</th>\n",
       "      <td>2020-07-27</td>\n",
       "      <td>ZW</td>\n",
       "      <td>Zimbabwe</td>\n",
       "      <td>AFRO</td>\n",
       "      <td>78</td>\n",
       "      <td>2512</td>\n",
       "      <td>0</td>\n",
       "      <td>34</td>\n",
       "    </tr>\n",
       "    <tr>\n",
       "      <th>31439</th>\n",
       "      <td>2020-07-28</td>\n",
       "      <td>ZW</td>\n",
       "      <td>Zimbabwe</td>\n",
       "      <td>AFRO</td>\n",
       "      <td>192</td>\n",
       "      <td>2704</td>\n",
       "      <td>2</td>\n",
       "      <td>36</td>\n",
       "    </tr>\n",
       "    <tr>\n",
       "      <th>31440</th>\n",
       "      <td>2020-07-29</td>\n",
       "      <td>ZW</td>\n",
       "      <td>Zimbabwe</td>\n",
       "      <td>AFRO</td>\n",
       "      <td>113</td>\n",
       "      <td>2817</td>\n",
       "      <td>4</td>\n",
       "      <td>40</td>\n",
       "    </tr>\n",
       "  </tbody>\n",
       "</table>\n",
       "</div>"
      ],
      "text/plain": [
       "      Date_reported Country_code   Country WHO_region  New_cases  \\\n",
       "31438    2020-07-27           ZW  Zimbabwe       AFRO         78   \n",
       "31439    2020-07-28           ZW  Zimbabwe       AFRO        192   \n",
       "31440    2020-07-29           ZW  Zimbabwe       AFRO        113   \n",
       "\n",
       "       Cumulative_cases  New_deaths  Cumulative_deaths  \n",
       "31438              2512           0                 34  \n",
       "31439              2704           2                 36  \n",
       "31440              2817           4                 40  "
      ]
     },
     "execution_count": 35,
     "metadata": {},
     "output_type": "execute_result"
    }
   ],
   "source": [
    "df[slice(-3, None)]"
   ]
  },
  {
   "cell_type": "code",
   "execution_count": 36,
   "metadata": {},
   "outputs": [
    {
     "data": {
      "text/html": [
       "<div>\n",
       "<style scoped>\n",
       "    .dataframe tbody tr th:only-of-type {\n",
       "        vertical-align: middle;\n",
       "    }\n",
       "\n",
       "    .dataframe tbody tr th {\n",
       "        vertical-align: top;\n",
       "    }\n",
       "\n",
       "    .dataframe thead th {\n",
       "        text-align: right;\n",
       "    }\n",
       "</style>\n",
       "<table border=\"1\" class=\"dataframe\">\n",
       "  <thead>\n",
       "    <tr style=\"text-align: right;\">\n",
       "      <th></th>\n",
       "      <th>Date_reported</th>\n",
       "      <th>Country_code</th>\n",
       "      <th>Country</th>\n",
       "      <th>WHO_region</th>\n",
       "      <th>New_cases</th>\n",
       "      <th>Cumulative_cases</th>\n",
       "      <th>New_deaths</th>\n",
       "      <th>Cumulative_deaths</th>\n",
       "    </tr>\n",
       "  </thead>\n",
       "  <tbody>\n",
       "    <tr>\n",
       "      <th>31438</th>\n",
       "      <td>2020-07-27</td>\n",
       "      <td>ZW</td>\n",
       "      <td>Zimbabwe</td>\n",
       "      <td>AFRO</td>\n",
       "      <td>78</td>\n",
       "      <td>2512</td>\n",
       "      <td>0</td>\n",
       "      <td>34</td>\n",
       "    </tr>\n",
       "    <tr>\n",
       "      <th>31439</th>\n",
       "      <td>2020-07-28</td>\n",
       "      <td>ZW</td>\n",
       "      <td>Zimbabwe</td>\n",
       "      <td>AFRO</td>\n",
       "      <td>192</td>\n",
       "      <td>2704</td>\n",
       "      <td>2</td>\n",
       "      <td>36</td>\n",
       "    </tr>\n",
       "    <tr>\n",
       "      <th>31440</th>\n",
       "      <td>2020-07-29</td>\n",
       "      <td>ZW</td>\n",
       "      <td>Zimbabwe</td>\n",
       "      <td>AFRO</td>\n",
       "      <td>113</td>\n",
       "      <td>2817</td>\n",
       "      <td>4</td>\n",
       "      <td>40</td>\n",
       "    </tr>\n",
       "  </tbody>\n",
       "</table>\n",
       "</div>"
      ],
      "text/plain": [
       "      Date_reported Country_code   Country WHO_region  New_cases  \\\n",
       "31438    2020-07-27           ZW  Zimbabwe       AFRO         78   \n",
       "31439    2020-07-28           ZW  Zimbabwe       AFRO        192   \n",
       "31440    2020-07-29           ZW  Zimbabwe       AFRO        113   \n",
       "\n",
       "       Cumulative_cases  New_deaths  Cumulative_deaths  \n",
       "31438              2512           0                 34  \n",
       "31439              2704           2                 36  \n",
       "31440              2817           4                 40  "
      ]
     },
     "execution_count": 36,
     "metadata": {},
     "output_type": "execute_result"
    }
   ],
   "source": [
    "df[-3:]"
   ]
  },
  {
   "cell_type": "markdown",
   "metadata": {},
   "source": [
    "- select rows by bool"
   ]
  },
  {
   "cell_type": "code",
   "execution_count": 37,
   "metadata": {},
   "outputs": [
    {
     "data": {
      "text/plain": [
       "0        False\n",
       "1        False\n",
       "2        False\n",
       "3        False\n",
       "4        False\n",
       "         ...  \n",
       "31436    False\n",
       "31437    False\n",
       "31438    False\n",
       "31439    False\n",
       "31440    False\n",
       "Name: Country, Length: 31441, dtype: bool"
      ]
     },
     "execution_count": 37,
     "metadata": {},
     "output_type": "execute_result"
    }
   ],
   "source": [
    "ix = df.Country == 'Germany'\n",
    "ix"
   ]
  },
  {
   "cell_type": "code",
   "execution_count": 38,
   "metadata": {},
   "outputs": [
    {
     "data": {
      "text/html": [
       "<div>\n",
       "<style scoped>\n",
       "    .dataframe tbody tr th:only-of-type {\n",
       "        vertical-align: middle;\n",
       "    }\n",
       "\n",
       "    .dataframe tbody tr th {\n",
       "        vertical-align: top;\n",
       "    }\n",
       "\n",
       "    .dataframe thead th {\n",
       "        text-align: right;\n",
       "    }\n",
       "</style>\n",
       "<table border=\"1\" class=\"dataframe\">\n",
       "  <thead>\n",
       "    <tr style=\"text-align: right;\">\n",
       "      <th></th>\n",
       "      <th>Date_reported</th>\n",
       "      <th>Country_code</th>\n",
       "      <th>Country</th>\n",
       "      <th>WHO_region</th>\n",
       "      <th>New_cases</th>\n",
       "      <th>Cumulative_cases</th>\n",
       "      <th>New_deaths</th>\n",
       "      <th>Cumulative_deaths</th>\n",
       "    </tr>\n",
       "  </thead>\n",
       "  <tbody>\n",
       "    <tr>\n",
       "      <th>10857</th>\n",
       "      <td>2020-01-28</td>\n",
       "      <td>DE</td>\n",
       "      <td>Germany</td>\n",
       "      <td>EURO</td>\n",
       "      <td>4</td>\n",
       "      <td>4</td>\n",
       "      <td>0</td>\n",
       "      <td>0</td>\n",
       "    </tr>\n",
       "    <tr>\n",
       "      <th>10858</th>\n",
       "      <td>2020-01-29</td>\n",
       "      <td>DE</td>\n",
       "      <td>Germany</td>\n",
       "      <td>EURO</td>\n",
       "      <td>0</td>\n",
       "      <td>4</td>\n",
       "      <td>0</td>\n",
       "      <td>0</td>\n",
       "    </tr>\n",
       "    <tr>\n",
       "      <th>10859</th>\n",
       "      <td>2020-01-30</td>\n",
       "      <td>DE</td>\n",
       "      <td>Germany</td>\n",
       "      <td>EURO</td>\n",
       "      <td>0</td>\n",
       "      <td>4</td>\n",
       "      <td>0</td>\n",
       "      <td>0</td>\n",
       "    </tr>\n",
       "    <tr>\n",
       "      <th>10860</th>\n",
       "      <td>2020-01-31</td>\n",
       "      <td>DE</td>\n",
       "      <td>Germany</td>\n",
       "      <td>EURO</td>\n",
       "      <td>3</td>\n",
       "      <td>7</td>\n",
       "      <td>0</td>\n",
       "      <td>0</td>\n",
       "    </tr>\n",
       "    <tr>\n",
       "      <th>10861</th>\n",
       "      <td>2020-02-01</td>\n",
       "      <td>DE</td>\n",
       "      <td>Germany</td>\n",
       "      <td>EURO</td>\n",
       "      <td>1</td>\n",
       "      <td>8</td>\n",
       "      <td>0</td>\n",
       "      <td>0</td>\n",
       "    </tr>\n",
       "    <tr>\n",
       "      <th>...</th>\n",
       "      <td>...</td>\n",
       "      <td>...</td>\n",
       "      <td>...</td>\n",
       "      <td>...</td>\n",
       "      <td>...</td>\n",
       "      <td>...</td>\n",
       "      <td>...</td>\n",
       "      <td>...</td>\n",
       "    </tr>\n",
       "    <tr>\n",
       "      <th>11036</th>\n",
       "      <td>2020-07-25</td>\n",
       "      <td>DE</td>\n",
       "      <td>Germany</td>\n",
       "      <td>EURO</td>\n",
       "      <td>781</td>\n",
       "      <td>204964</td>\n",
       "      <td>7</td>\n",
       "      <td>9118</td>\n",
       "    </tr>\n",
       "    <tr>\n",
       "      <th>11037</th>\n",
       "      <td>2020-07-26</td>\n",
       "      <td>DE</td>\n",
       "      <td>Germany</td>\n",
       "      <td>EURO</td>\n",
       "      <td>305</td>\n",
       "      <td>205269</td>\n",
       "      <td>0</td>\n",
       "      <td>9118</td>\n",
       "    </tr>\n",
       "    <tr>\n",
       "      <th>11038</th>\n",
       "      <td>2020-07-27</td>\n",
       "      <td>DE</td>\n",
       "      <td>Germany</td>\n",
       "      <td>EURO</td>\n",
       "      <td>340</td>\n",
       "      <td>205609</td>\n",
       "      <td>0</td>\n",
       "      <td>9118</td>\n",
       "    </tr>\n",
       "    <tr>\n",
       "      <th>11039</th>\n",
       "      <td>2020-07-28</td>\n",
       "      <td>DE</td>\n",
       "      <td>Germany</td>\n",
       "      <td>EURO</td>\n",
       "      <td>633</td>\n",
       "      <td>206242</td>\n",
       "      <td>4</td>\n",
       "      <td>9122</td>\n",
       "    </tr>\n",
       "    <tr>\n",
       "      <th>11040</th>\n",
       "      <td>2020-07-29</td>\n",
       "      <td>DE</td>\n",
       "      <td>Germany</td>\n",
       "      <td>EURO</td>\n",
       "      <td>684</td>\n",
       "      <td>206926</td>\n",
       "      <td>6</td>\n",
       "      <td>9128</td>\n",
       "    </tr>\n",
       "  </tbody>\n",
       "</table>\n",
       "<p>184 rows × 8 columns</p>\n",
       "</div>"
      ],
      "text/plain": [
       "      Date_reported Country_code  Country WHO_region  New_cases  \\\n",
       "10857    2020-01-28           DE  Germany       EURO          4   \n",
       "10858    2020-01-29           DE  Germany       EURO          0   \n",
       "10859    2020-01-30           DE  Germany       EURO          0   \n",
       "10860    2020-01-31           DE  Germany       EURO          3   \n",
       "10861    2020-02-01           DE  Germany       EURO          1   \n",
       "...             ...          ...      ...        ...        ...   \n",
       "11036    2020-07-25           DE  Germany       EURO        781   \n",
       "11037    2020-07-26           DE  Germany       EURO        305   \n",
       "11038    2020-07-27           DE  Germany       EURO        340   \n",
       "11039    2020-07-28           DE  Germany       EURO        633   \n",
       "11040    2020-07-29           DE  Germany       EURO        684   \n",
       "\n",
       "       Cumulative_cases  New_deaths  Cumulative_deaths  \n",
       "10857                 4           0                  0  \n",
       "10858                 4           0                  0  \n",
       "10859                 4           0                  0  \n",
       "10860                 7           0                  0  \n",
       "10861                 8           0                  0  \n",
       "...                 ...         ...                ...  \n",
       "11036            204964           7               9118  \n",
       "11037            205269           0               9118  \n",
       "11038            205609           0               9118  \n",
       "11039            206242           4               9122  \n",
       "11040            206926           6               9128  \n",
       "\n",
       "[184 rows x 8 columns]"
      ]
     },
     "execution_count": 38,
     "metadata": {},
     "output_type": "execute_result"
    }
   ],
   "source": [
    "df[ix]"
   ]
  },
  {
   "cell_type": "code",
   "execution_count": 39,
   "metadata": {},
   "outputs": [
    {
     "data": {
      "text/html": [
       "<div>\n",
       "<style scoped>\n",
       "    .dataframe tbody tr th:only-of-type {\n",
       "        vertical-align: middle;\n",
       "    }\n",
       "\n",
       "    .dataframe tbody tr th {\n",
       "        vertical-align: top;\n",
       "    }\n",
       "\n",
       "    .dataframe thead th {\n",
       "        text-align: right;\n",
       "    }\n",
       "</style>\n",
       "<table border=\"1\" class=\"dataframe\">\n",
       "  <thead>\n",
       "    <tr style=\"text-align: right;\">\n",
       "      <th></th>\n",
       "      <th>Date_reported</th>\n",
       "      <th>Country_code</th>\n",
       "      <th>Country</th>\n",
       "      <th>WHO_region</th>\n",
       "      <th>New_cases</th>\n",
       "      <th>Cumulative_cases</th>\n",
       "      <th>New_deaths</th>\n",
       "      <th>Cumulative_deaths</th>\n",
       "    </tr>\n",
       "  </thead>\n",
       "  <tbody>\n",
       "    <tr>\n",
       "      <th>10909</th>\n",
       "      <td>2020-03-20</td>\n",
       "      <td>DE</td>\n",
       "      <td>Germany</td>\n",
       "      <td>EURO</td>\n",
       "      <td>7324</td>\n",
       "      <td>18323</td>\n",
       "      <td>25</td>\n",
       "      <td>45</td>\n",
       "    </tr>\n",
       "    <tr>\n",
       "      <th>10916</th>\n",
       "      <td>2020-03-27</td>\n",
       "      <td>DE</td>\n",
       "      <td>Germany</td>\n",
       "      <td>EURO</td>\n",
       "      <td>5780</td>\n",
       "      <td>42288</td>\n",
       "      <td>55</td>\n",
       "      <td>253</td>\n",
       "    </tr>\n",
       "    <tr>\n",
       "      <th>10917</th>\n",
       "      <td>2020-03-28</td>\n",
       "      <td>DE</td>\n",
       "      <td>Germany</td>\n",
       "      <td>EURO</td>\n",
       "      <td>6294</td>\n",
       "      <td>48582</td>\n",
       "      <td>72</td>\n",
       "      <td>325</td>\n",
       "    </tr>\n",
       "    <tr>\n",
       "      <th>10921</th>\n",
       "      <td>2020-04-01</td>\n",
       "      <td>DE</td>\n",
       "      <td>Germany</td>\n",
       "      <td>EURO</td>\n",
       "      <td>5453</td>\n",
       "      <td>67366</td>\n",
       "      <td>149</td>\n",
       "      <td>732</td>\n",
       "    </tr>\n",
       "    <tr>\n",
       "      <th>10922</th>\n",
       "      <td>2020-04-02</td>\n",
       "      <td>DE</td>\n",
       "      <td>Germany</td>\n",
       "      <td>EURO</td>\n",
       "      <td>6156</td>\n",
       "      <td>73522</td>\n",
       "      <td>140</td>\n",
       "      <td>872</td>\n",
       "    </tr>\n",
       "    <tr>\n",
       "      <th>10923</th>\n",
       "      <td>2020-04-03</td>\n",
       "      <td>DE</td>\n",
       "      <td>Germany</td>\n",
       "      <td>EURO</td>\n",
       "      <td>6174</td>\n",
       "      <td>79696</td>\n",
       "      <td>145</td>\n",
       "      <td>1017</td>\n",
       "    </tr>\n",
       "    <tr>\n",
       "      <th>10924</th>\n",
       "      <td>2020-04-04</td>\n",
       "      <td>DE</td>\n",
       "      <td>Germany</td>\n",
       "      <td>EURO</td>\n",
       "      <td>6082</td>\n",
       "      <td>85778</td>\n",
       "      <td>141</td>\n",
       "      <td>1158</td>\n",
       "    </tr>\n",
       "    <tr>\n",
       "      <th>10925</th>\n",
       "      <td>2020-04-05</td>\n",
       "      <td>DE</td>\n",
       "      <td>Germany</td>\n",
       "      <td>EURO</td>\n",
       "      <td>5936</td>\n",
       "      <td>91714</td>\n",
       "      <td>184</td>\n",
       "      <td>1342</td>\n",
       "    </tr>\n",
       "    <tr>\n",
       "      <th>10930</th>\n",
       "      <td>2020-04-10</td>\n",
       "      <td>DE</td>\n",
       "      <td>Germany</td>\n",
       "      <td>EURO</td>\n",
       "      <td>5323</td>\n",
       "      <td>113525</td>\n",
       "      <td>266</td>\n",
       "      <td>2373</td>\n",
       "    </tr>\n",
       "  </tbody>\n",
       "</table>\n",
       "</div>"
      ],
      "text/plain": [
       "      Date_reported Country_code  Country WHO_region  New_cases  \\\n",
       "10909    2020-03-20           DE  Germany       EURO       7324   \n",
       "10916    2020-03-27           DE  Germany       EURO       5780   \n",
       "10917    2020-03-28           DE  Germany       EURO       6294   \n",
       "10921    2020-04-01           DE  Germany       EURO       5453   \n",
       "10922    2020-04-02           DE  Germany       EURO       6156   \n",
       "10923    2020-04-03           DE  Germany       EURO       6174   \n",
       "10924    2020-04-04           DE  Germany       EURO       6082   \n",
       "10925    2020-04-05           DE  Germany       EURO       5936   \n",
       "10930    2020-04-10           DE  Germany       EURO       5323   \n",
       "\n",
       "       Cumulative_cases  New_deaths  Cumulative_deaths  \n",
       "10909             18323          25                 45  \n",
       "10916             42288          55                253  \n",
       "10917             48582          72                325  \n",
       "10921             67366         149                732  \n",
       "10922             73522         140                872  \n",
       "10923             79696         145               1017  \n",
       "10924             85778         141               1158  \n",
       "10925             91714         184               1342  \n",
       "10930            113525         266               2373  "
      ]
     },
     "execution_count": 39,
     "metadata": {},
     "output_type": "execute_result"
    }
   ],
   "source": [
    "df[(df.Country == 'Germany') & (df.New_cases > 5000)]"
   ]
  },
  {
   "cell_type": "code",
   "execution_count": 40,
   "metadata": {},
   "outputs": [
    {
     "data": {
      "text/html": [
       "<div>\n",
       "<style scoped>\n",
       "    .dataframe tbody tr th:only-of-type {\n",
       "        vertical-align: middle;\n",
       "    }\n",
       "\n",
       "    .dataframe tbody tr th {\n",
       "        vertical-align: top;\n",
       "    }\n",
       "\n",
       "    .dataframe thead th {\n",
       "        text-align: right;\n",
       "    }\n",
       "</style>\n",
       "<table border=\"1\" class=\"dataframe\">\n",
       "  <thead>\n",
       "    <tr style=\"text-align: right;\">\n",
       "      <th></th>\n",
       "      <th>Date_reported</th>\n",
       "      <th>Country_code</th>\n",
       "      <th>Country</th>\n",
       "      <th>WHO_region</th>\n",
       "      <th>New_cases</th>\n",
       "      <th>Cumulative_cases</th>\n",
       "      <th>New_deaths</th>\n",
       "      <th>Cumulative_deaths</th>\n",
       "    </tr>\n",
       "  </thead>\n",
       "  <tbody>\n",
       "    <tr>\n",
       "      <th>10909</th>\n",
       "      <td>2020-03-20</td>\n",
       "      <td>DE</td>\n",
       "      <td>Germany</td>\n",
       "      <td>EURO</td>\n",
       "      <td>7324</td>\n",
       "      <td>18323</td>\n",
       "      <td>25</td>\n",
       "      <td>45</td>\n",
       "    </tr>\n",
       "    <tr>\n",
       "      <th>10916</th>\n",
       "      <td>2020-03-27</td>\n",
       "      <td>DE</td>\n",
       "      <td>Germany</td>\n",
       "      <td>EURO</td>\n",
       "      <td>5780</td>\n",
       "      <td>42288</td>\n",
       "      <td>55</td>\n",
       "      <td>253</td>\n",
       "    </tr>\n",
       "    <tr>\n",
       "      <th>10917</th>\n",
       "      <td>2020-03-28</td>\n",
       "      <td>DE</td>\n",
       "      <td>Germany</td>\n",
       "      <td>EURO</td>\n",
       "      <td>6294</td>\n",
       "      <td>48582</td>\n",
       "      <td>72</td>\n",
       "      <td>325</td>\n",
       "    </tr>\n",
       "    <tr>\n",
       "      <th>10921</th>\n",
       "      <td>2020-04-01</td>\n",
       "      <td>DE</td>\n",
       "      <td>Germany</td>\n",
       "      <td>EURO</td>\n",
       "      <td>5453</td>\n",
       "      <td>67366</td>\n",
       "      <td>149</td>\n",
       "      <td>732</td>\n",
       "    </tr>\n",
       "    <tr>\n",
       "      <th>10922</th>\n",
       "      <td>2020-04-02</td>\n",
       "      <td>DE</td>\n",
       "      <td>Germany</td>\n",
       "      <td>EURO</td>\n",
       "      <td>6156</td>\n",
       "      <td>73522</td>\n",
       "      <td>140</td>\n",
       "      <td>872</td>\n",
       "    </tr>\n",
       "    <tr>\n",
       "      <th>10923</th>\n",
       "      <td>2020-04-03</td>\n",
       "      <td>DE</td>\n",
       "      <td>Germany</td>\n",
       "      <td>EURO</td>\n",
       "      <td>6174</td>\n",
       "      <td>79696</td>\n",
       "      <td>145</td>\n",
       "      <td>1017</td>\n",
       "    </tr>\n",
       "    <tr>\n",
       "      <th>10924</th>\n",
       "      <td>2020-04-04</td>\n",
       "      <td>DE</td>\n",
       "      <td>Germany</td>\n",
       "      <td>EURO</td>\n",
       "      <td>6082</td>\n",
       "      <td>85778</td>\n",
       "      <td>141</td>\n",
       "      <td>1158</td>\n",
       "    </tr>\n",
       "    <tr>\n",
       "      <th>10925</th>\n",
       "      <td>2020-04-05</td>\n",
       "      <td>DE</td>\n",
       "      <td>Germany</td>\n",
       "      <td>EURO</td>\n",
       "      <td>5936</td>\n",
       "      <td>91714</td>\n",
       "      <td>184</td>\n",
       "      <td>1342</td>\n",
       "    </tr>\n",
       "    <tr>\n",
       "      <th>10930</th>\n",
       "      <td>2020-04-10</td>\n",
       "      <td>DE</td>\n",
       "      <td>Germany</td>\n",
       "      <td>EURO</td>\n",
       "      <td>5323</td>\n",
       "      <td>113525</td>\n",
       "      <td>266</td>\n",
       "      <td>2373</td>\n",
       "    </tr>\n",
       "  </tbody>\n",
       "</table>\n",
       "</div>"
      ],
      "text/plain": [
       "      Date_reported Country_code  Country WHO_region  New_cases  \\\n",
       "10909    2020-03-20           DE  Germany       EURO       7324   \n",
       "10916    2020-03-27           DE  Germany       EURO       5780   \n",
       "10917    2020-03-28           DE  Germany       EURO       6294   \n",
       "10921    2020-04-01           DE  Germany       EURO       5453   \n",
       "10922    2020-04-02           DE  Germany       EURO       6156   \n",
       "10923    2020-04-03           DE  Germany       EURO       6174   \n",
       "10924    2020-04-04           DE  Germany       EURO       6082   \n",
       "10925    2020-04-05           DE  Germany       EURO       5936   \n",
       "10930    2020-04-10           DE  Germany       EURO       5323   \n",
       "\n",
       "       Cumulative_cases  New_deaths  Cumulative_deaths  \n",
       "10909             18323          25                 45  \n",
       "10916             42288          55                253  \n",
       "10917             48582          72                325  \n",
       "10921             67366         149                732  \n",
       "10922             73522         140                872  \n",
       "10923             79696         145               1017  \n",
       "10924             85778         141               1158  \n",
       "10925             91714         184               1342  \n",
       "10930            113525         266               2373  "
      ]
     },
     "execution_count": 40,
     "metadata": {},
     "output_type": "execute_result"
    }
   ],
   "source": [
    "df.query('Country == \"Germany\" and New_cases > 5000')"
   ]
  },
  {
   "cell_type": "markdown",
   "metadata": {},
   "source": [
    "### Note: You can't select a row by index using the indexing operator only!"
   ]
  },
  {
   "cell_type": "code",
   "execution_count": 41,
   "metadata": {},
   "outputs": [
    {
     "name": "stdout",
     "output_type": "stream",
     "text": [
      "KeyError: 0\n"
     ]
    }
   ],
   "source": [
    "try:\n",
    "    df[0]\n",
    "except KeyError as err:\n",
    "    print('KeyError:', err)"
   ]
  },
  {
   "cell_type": "markdown",
   "metadata": {},
   "source": [
    "- Select rows and columns by chained indexing"
   ]
  },
  {
   "cell_type": "code",
   "execution_count": 42,
   "metadata": {},
   "outputs": [
    {
     "data": {
      "text/plain": [
       "10857      4\n",
       "10858      0\n",
       "10859      0\n",
       "10860      3\n",
       "10861      1\n",
       "        ... \n",
       "11036    781\n",
       "11037    305\n",
       "11038    340\n",
       "11039    633\n",
       "11040    684\n",
       "Name: New_cases, Length: 184, dtype: int64"
      ]
     },
     "execution_count": 42,
     "metadata": {},
     "output_type": "execute_result"
    }
   ],
   "source": [
    "df[ix].New_cases"
   ]
  },
  {
   "cell_type": "code",
   "execution_count": 43,
   "metadata": {},
   "outputs": [
    {
     "data": {
      "text/plain": [
       "10857      4\n",
       "10858      0\n",
       "10859      0\n",
       "10860      3\n",
       "10861      1\n",
       "        ... \n",
       "11036    781\n",
       "11037    305\n",
       "11038    340\n",
       "11039    633\n",
       "11040    684\n",
       "Name: New_cases, Length: 184, dtype: int64"
      ]
     },
     "execution_count": 43,
     "metadata": {},
     "output_type": "execute_result"
    }
   ],
   "source": [
    "df.New_cases[ix]"
   ]
  },
  {
   "cell_type": "markdown",
   "metadata": {},
   "source": [
    "### Warning: Don't use chained indexing for assignments!"
   ]
  },
  {
   "cell_type": "code",
   "execution_count": 44,
   "metadata": {},
   "outputs": [
    {
     "name": "stderr",
     "output_type": "stream",
     "text": [
      "<ipython-input-44-543693bfd69a>:1: SettingWithCopyWarning: \n",
      "A value is trying to be set on a copy of a slice from a DataFrame\n",
      "\n",
      "See the caveats in the documentation: https://pandas.pydata.org/pandas-docs/stable/user_guide/indexing.html#returning-a-view-versus-a-copy\n",
      "  df.New_cases[:1] = 7\n"
     ]
    }
   ],
   "source": [
    "df.New_cases[:1] = 7"
   ]
  },
  {
   "cell_type": "markdown",
   "metadata": {},
   "source": [
    "## Plotting data"
   ]
  },
  {
   "cell_type": "code",
   "execution_count": 45,
   "metadata": {},
   "outputs": [],
   "source": [
    "%matplotlib inline"
   ]
  },
  {
   "cell_type": "code",
   "execution_count": 46,
   "metadata": {},
   "outputs": [
    {
     "data": {
      "image/png": "[encoded data removed]",
      "text/plain": [
       "<Figure size 432x288 with 1 Axes>"
      ]
     },
     "metadata": {
      "needs_background": "light"
     },
     "output_type": "display_data"
    }
   ],
   "source": [
    "df.New_cases[ix].plot(title='New cases Germany', grid=True);"
   ]
  },
  {
   "cell_type": "code",
   "execution_count": 47,
   "metadata": {},
   "outputs": [],
   "source": [
    "df.Date_reported = pd.to_datetime(df.Date_reported)"
   ]
  },
  {
   "cell_type": "code",
   "execution_count": 48,
   "metadata": {},
   "outputs": [
    {
     "data": {
      "text/plain": [
       "Date_reported        datetime64[ns]\n",
       "Country_code                 object\n",
       "Country                      object\n",
       "WHO_region                   object\n",
       "New_cases                     int64\n",
       "Cumulative_cases              int64\n",
       "New_deaths                    int64\n",
       "Cumulative_deaths             int64\n",
       "dtype: object"
      ]
     },
     "execution_count": 48,
     "metadata": {},
     "output_type": "execute_result"
    }
   ],
   "source": [
    "df.dtypes"
   ]
  },
  {
   "cell_type": "code",
   "execution_count": 49,
   "metadata": {},
   "outputs": [
    {
     "data": {
      "text/plain": [
       "1582502400000000000"
      ]
     },
     "execution_count": 49,
     "metadata": {},
     "output_type": "execute_result"
    }
   ],
   "source": [
    "df.Date_reported[0].value"
   ]
  },
  {
   "cell_type": "code",
   "execution_count": 50,
   "metadata": {},
   "outputs": [
    {
     "data": {
      "text/html": [
       "<div>\n",
       "<style scoped>\n",
       "    .dataframe tbody tr th:only-of-type {\n",
       "        vertical-align: middle;\n",
       "    }\n",
       "\n",
       "    .dataframe tbody tr th {\n",
       "        vertical-align: top;\n",
       "    }\n",
       "\n",
       "    .dataframe thead th {\n",
       "        text-align: right;\n",
       "    }\n",
       "</style>\n",
       "<table border=\"1\" class=\"dataframe\">\n",
       "  <thead>\n",
       "    <tr style=\"text-align: right;\">\n",
       "      <th></th>\n",
       "      <th>Country_code</th>\n",
       "      <th>Country</th>\n",
       "      <th>WHO_region</th>\n",
       "      <th>New_cases</th>\n",
       "      <th>Cumulative_cases</th>\n",
       "      <th>New_deaths</th>\n",
       "      <th>Cumulative_deaths</th>\n",
       "    </tr>\n",
       "    <tr>\n",
       "      <th>Date_reported</th>\n",
       "      <th></th>\n",
       "      <th></th>\n",
       "      <th></th>\n",
       "      <th></th>\n",
       "      <th></th>\n",
       "      <th></th>\n",
       "      <th></th>\n",
       "    </tr>\n",
       "  </thead>\n",
       "  <tbody>\n",
       "    <tr>\n",
       "      <th>2020-01-11</th>\n",
       "      <td>CN</td>\n",
       "      <td>China</td>\n",
       "      <td>WPRO</td>\n",
       "      <td>41</td>\n",
       "      <td>41</td>\n",
       "      <td>1</td>\n",
       "      <td>1</td>\n",
       "    </tr>\n",
       "    <tr>\n",
       "      <th>2020-01-12</th>\n",
       "      <td>CN</td>\n",
       "      <td>China</td>\n",
       "      <td>WPRO</td>\n",
       "      <td>0</td>\n",
       "      <td>41</td>\n",
       "      <td>0</td>\n",
       "      <td>1</td>\n",
       "    </tr>\n",
       "    <tr>\n",
       "      <th>2020-01-13</th>\n",
       "      <td>TH</td>\n",
       "      <td>Thailand</td>\n",
       "      <td>SEARO</td>\n",
       "      <td>1</td>\n",
       "      <td>1</td>\n",
       "      <td>0</td>\n",
       "      <td>0</td>\n",
       "    </tr>\n",
       "    <tr>\n",
       "      <th>2020-01-13</th>\n",
       "      <td>CN</td>\n",
       "      <td>China</td>\n",
       "      <td>WPRO</td>\n",
       "      <td>0</td>\n",
       "      <td>41</td>\n",
       "      <td>0</td>\n",
       "      <td>1</td>\n",
       "    </tr>\n",
       "    <tr>\n",
       "      <th>2020-01-14</th>\n",
       "      <td>TH</td>\n",
       "      <td>Thailand</td>\n",
       "      <td>SEARO</td>\n",
       "      <td>0</td>\n",
       "      <td>1</td>\n",
       "      <td>0</td>\n",
       "      <td>0</td>\n",
       "    </tr>\n",
       "    <tr>\n",
       "      <th>...</th>\n",
       "      <td>...</td>\n",
       "      <td>...</td>\n",
       "      <td>...</td>\n",
       "      <td>...</td>\n",
       "      <td>...</td>\n",
       "      <td>...</td>\n",
       "      <td>...</td>\n",
       "    </tr>\n",
       "    <tr>\n",
       "      <th>2020-07-29</th>\n",
       "      <td>HT</td>\n",
       "      <td>Haiti</td>\n",
       "      <td>AMRO</td>\n",
       "      <td>25</td>\n",
       "      <td>7340</td>\n",
       "      <td>1</td>\n",
       "      <td>158</td>\n",
       "    </tr>\n",
       "    <tr>\n",
       "      <th>2020-07-29</th>\n",
       "      <td>GY</td>\n",
       "      <td>Guyana</td>\n",
       "      <td>AMRO</td>\n",
       "      <td>19</td>\n",
       "      <td>389</td>\n",
       "      <td>0</td>\n",
       "      <td>20</td>\n",
       "    </tr>\n",
       "    <tr>\n",
       "      <th>2020-07-29</th>\n",
       "      <td>GW</td>\n",
       "      <td>Guinea-Bissau</td>\n",
       "      <td>AFRO</td>\n",
       "      <td>0</td>\n",
       "      <td>1954</td>\n",
       "      <td>0</td>\n",
       "      <td>26</td>\n",
       "    </tr>\n",
       "    <tr>\n",
       "      <th>2020-07-29</th>\n",
       "      <td>AM</td>\n",
       "      <td>Armenia</td>\n",
       "      <td>EURO</td>\n",
       "      <td>308</td>\n",
       "      <td>37937</td>\n",
       "      <td>4</td>\n",
       "      <td>723</td>\n",
       "    </tr>\n",
       "    <tr>\n",
       "      <th>2020-07-29</th>\n",
       "      <td>ZW</td>\n",
       "      <td>Zimbabwe</td>\n",
       "      <td>AFRO</td>\n",
       "      <td>113</td>\n",
       "      <td>2817</td>\n",
       "      <td>4</td>\n",
       "      <td>40</td>\n",
       "    </tr>\n",
       "  </tbody>\n",
       "</table>\n",
       "<p>31441 rows × 7 columns</p>\n",
       "</div>"
      ],
      "text/plain": [
       "              Country_code        Country WHO_region  New_cases  \\\n",
       "Date_reported                                                     \n",
       "2020-01-11              CN          China       WPRO         41   \n",
       "2020-01-12              CN          China       WPRO          0   \n",
       "2020-01-13              TH       Thailand      SEARO          1   \n",
       "2020-01-13              CN          China       WPRO          0   \n",
       "2020-01-14              TH       Thailand      SEARO          0   \n",
       "...                    ...            ...        ...        ...   \n",
       "2020-07-29              HT          Haiti       AMRO         25   \n",
       "2020-07-29              GY         Guyana       AMRO         19   \n",
       "2020-07-29              GW  Guinea-Bissau       AFRO          0   \n",
       "2020-07-29              AM        Armenia       EURO        308   \n",
       "2020-07-29              ZW       Zimbabwe       AFRO        113   \n",
       "\n",
       "               Cumulative_cases  New_deaths  Cumulative_deaths  \n",
       "Date_reported                                                   \n",
       "2020-01-11                   41           1                  1  \n",
       "2020-01-12                   41           0                  1  \n",
       "2020-01-13                    1           0                  0  \n",
       "2020-01-13                   41           0                  1  \n",
       "2020-01-14                    1           0                  0  \n",
       "...                         ...         ...                ...  \n",
       "2020-07-29                 7340           1                158  \n",
       "2020-07-29                  389           0                 20  \n",
       "2020-07-29                 1954           0                 26  \n",
       "2020-07-29                37937           4                723  \n",
       "2020-07-29                 2817           4                 40  \n",
       "\n",
       "[31441 rows x 7 columns]"
      ]
     },
     "execution_count": 50,
     "metadata": {},
     "output_type": "execute_result"
    }
   ],
   "source": [
    "df = df.set_index(['Date_reported']).sort_index()\n",
    "df"
   ]
  },
  {
   "cell_type": "code",
   "execution_count": 51,
   "metadata": {},
   "outputs": [
    {
     "data": {
      "text/plain": [
       "(0.0, 8000.0)"
      ]
     },
     "execution_count": 51,
     "metadata": {},
     "output_type": "execute_result"
    },
    {
     "data": {
      "image/png": "[encoded data removed]",
      "text/plain": [
       "<Figure size 432x288 with 1 Axes>"
      ]
     },
     "metadata": {
      "needs_background": "light"
     },
     "output_type": "display_data"
    }
   ],
   "source": [
    "ax = df.New_cases[df.Country=='Germany'].plot(title='New cases Germany', grid=True)\n",
    "ax.set_ylim(0, 8000)"
   ]
  },
  {
   "cell_type": "markdown",
   "metadata": {},
   "source": [
    "### Select rows and columns via loc attribute"
   ]
  },
  {
   "cell_type": "code",
   "execution_count": 52,
   "metadata": {},
   "outputs": [
    {
     "data": {
      "text/plain": [
       "41"
      ]
     },
     "execution_count": 52,
     "metadata": {},
     "output_type": "execute_result"
    }
   ],
   "source": [
    "df.loc['2020-01-11', 'Cumulative_cases']"
   ]
  },
  {
   "cell_type": "code",
   "execution_count": 53,
   "metadata": {},
   "outputs": [
    {
     "data": {
      "text/plain": [
       "Date_reported\n",
       "2020-01-11    41\n",
       "2020-01-12    41\n",
       "2020-01-13     1\n",
       "2020-01-13    41\n",
       "2020-01-14     1\n",
       "              ..\n",
       "2020-01-31     4\n",
       "2020-01-31     1\n",
       "2020-01-31    11\n",
       "2020-01-31     1\n",
       "2020-01-31     1\n",
       "Name: Cumulative_cases, Length: 167, dtype: int64"
      ]
     },
     "execution_count": 53,
     "metadata": {},
     "output_type": "execute_result"
    }
   ],
   "source": [
    "df.loc['2020-01', 'Cumulative_cases']"
   ]
  },
  {
   "cell_type": "markdown",
   "metadata": {},
   "source": [
    "### Select rows and columns via iloc attribute"
   ]
  },
  {
   "cell_type": "code",
   "execution_count": 54,
   "metadata": {},
   "outputs": [
    {
     "data": {
      "text/html": [
       "<div>\n",
       "<style scoped>\n",
       "    .dataframe tbody tr th:only-of-type {\n",
       "        vertical-align: middle;\n",
       "    }\n",
       "\n",
       "    .dataframe tbody tr th {\n",
       "        vertical-align: top;\n",
       "    }\n",
       "\n",
       "    .dataframe thead th {\n",
       "        text-align: right;\n",
       "    }\n",
       "</style>\n",
       "<table border=\"1\" class=\"dataframe\">\n",
       "  <thead>\n",
       "    <tr style=\"text-align: right;\">\n",
       "      <th></th>\n",
       "      <th>Country</th>\n",
       "      <th>WHO_region</th>\n",
       "    </tr>\n",
       "    <tr>\n",
       "      <th>Date_reported</th>\n",
       "      <th></th>\n",
       "      <th></th>\n",
       "    </tr>\n",
       "  </thead>\n",
       "  <tbody>\n",
       "    <tr>\n",
       "      <th>2020-01-12</th>\n",
       "      <td>China</td>\n",
       "      <td>WPRO</td>\n",
       "    </tr>\n",
       "    <tr>\n",
       "      <th>2020-01-13</th>\n",
       "      <td>China</td>\n",
       "      <td>WPRO</td>\n",
       "    </tr>\n",
       "    <tr>\n",
       "      <th>2020-01-15</th>\n",
       "      <td>Japan</td>\n",
       "      <td>WPRO</td>\n",
       "    </tr>\n",
       "  </tbody>\n",
       "</table>\n",
       "</div>"
      ],
      "text/plain": [
       "              Country WHO_region\n",
       "Date_reported                   \n",
       "2020-01-12      China       WPRO\n",
       "2020-01-13      China       WPRO\n",
       "2020-01-15      Japan       WPRO"
      ]
     },
     "execution_count": 54,
     "metadata": {},
     "output_type": "execute_result"
    }
   ],
   "source": [
    "df.iloc[[1, 3, 7], [1, 2]]"
   ]
  },
  {
   "cell_type": "markdown",
   "metadata": {},
   "source": [
    "## Grouping rows"
   ]
  },
  {
   "cell_type": "code",
   "execution_count": 55,
   "metadata": {},
   "outputs": [
    {
     "data": {
      "text/html": [
       "<div>\n",
       "<style scoped>\n",
       "    .dataframe tbody tr th:only-of-type {\n",
       "        vertical-align: middle;\n",
       "    }\n",
       "\n",
       "    .dataframe tbody tr th {\n",
       "        vertical-align: top;\n",
       "    }\n",
       "\n",
       "    .dataframe thead th {\n",
       "        text-align: right;\n",
       "    }\n",
       "</style>\n",
       "<table border=\"1\" class=\"dataframe\">\n",
       "  <thead>\n",
       "    <tr style=\"text-align: right;\">\n",
       "      <th></th>\n",
       "      <th>New_cases</th>\n",
       "      <th>Cumulative_cases</th>\n",
       "      <th>New_deaths</th>\n",
       "      <th>Cumulative_deaths</th>\n",
       "    </tr>\n",
       "    <tr>\n",
       "      <th>Country</th>\n",
       "      <th></th>\n",
       "      <th></th>\n",
       "      <th></th>\n",
       "      <th></th>\n",
       "    </tr>\n",
       "  </thead>\n",
       "  <tbody>\n",
       "    <tr>\n",
       "      <th>Afghanistan</th>\n",
       "      <td>36477</td>\n",
       "      <td>2003818</td>\n",
       "      <td>1271</td>\n",
       "      <td>51425</td>\n",
       "    </tr>\n",
       "    <tr>\n",
       "      <th>Albania</th>\n",
       "      <td>4997</td>\n",
       "      <td>204928</td>\n",
       "      <td>148</td>\n",
       "      <td>5926</td>\n",
       "    </tr>\n",
       "    <tr>\n",
       "      <th>Algeria</th>\n",
       "      <td>28615</td>\n",
       "      <td>1207334</td>\n",
       "      <td>1174</td>\n",
       "      <td>79091</td>\n",
       "    </tr>\n",
       "    <tr>\n",
       "      <th>Andorra</th>\n",
       "      <td>911</td>\n",
       "      <td>95701</td>\n",
       "      <td>52</td>\n",
       "      <td>5480</td>\n",
       "    </tr>\n",
       "    <tr>\n",
       "      <th>Angola</th>\n",
       "      <td>1000</td>\n",
       "      <td>23720</td>\n",
       "      <td>47</td>\n",
       "      <td>1122</td>\n",
       "    </tr>\n",
       "    <tr>\n",
       "      <th>...</th>\n",
       "      <td>...</td>\n",
       "      <td>...</td>\n",
       "      <td>...</td>\n",
       "      <td>...</td>\n",
       "    </tr>\n",
       "    <tr>\n",
       "      <th>Viet Nam</th>\n",
       "      <td>446</td>\n",
       "      <td>41229</td>\n",
       "      <td>0</td>\n",
       "      <td>0</td>\n",
       "    </tr>\n",
       "    <tr>\n",
       "      <th>Yemen</th>\n",
       "      <td>1707</td>\n",
       "      <td>69229</td>\n",
       "      <td>485</td>\n",
       "      <td>18258</td>\n",
       "    </tr>\n",
       "    <tr>\n",
       "      <th>Zambia</th>\n",
       "      <td>5002</td>\n",
       "      <td>135940</td>\n",
       "      <td>142</td>\n",
       "      <td>2934</td>\n",
       "    </tr>\n",
       "    <tr>\n",
       "      <th>Zimbabwe</th>\n",
       "      <td>2817</td>\n",
       "      <td>53573</td>\n",
       "      <td>40</td>\n",
       "      <td>926</td>\n",
       "    </tr>\n",
       "    <tr>\n",
       "      <th>occupied Palestinian territory, including east Jerusalem</th>\n",
       "      <td>13938</td>\n",
       "      <td>290967</td>\n",
       "      <td>81</td>\n",
       "      <td>1658</td>\n",
       "    </tr>\n",
       "  </tbody>\n",
       "</table>\n",
       "<p>216 rows × 4 columns</p>\n",
       "</div>"
      ],
      "text/plain": [
       "                                                    New_cases  \\\n",
       "Country                                                         \n",
       "Afghanistan                                             36477   \n",
       "Albania                                                  4997   \n",
       "Algeria                                                 28615   \n",
       "Andorra                                                   911   \n",
       "Angola                                                   1000   \n",
       "...                                                       ...   \n",
       "Viet Nam                                                  446   \n",
       "Yemen                                                    1707   \n",
       "Zambia                                                   5002   \n",
       "Zimbabwe                                                 2817   \n",
       "occupied Palestinian territory, including east ...      13938   \n",
       "\n",
       "                                                    Cumulative_cases  \\\n",
       "Country                                                                \n",
       "Afghanistan                                                  2003818   \n",
       "Albania                                                       204928   \n",
       "Algeria                                                      1207334   \n",
       "Andorra                                                        95701   \n",
       "Angola                                                         23720   \n",
       "...                                                              ...   \n",
       "Viet Nam                                                       41229   \n",
       "Yemen                                                          69229   \n",
       "Zambia                                                        135940   \n",
       "Zimbabwe                                                       53573   \n",
       "occupied Palestinian territory, including east ...            290967   \n",
       "\n",
       "                                                    New_deaths  \\\n",
       "Country                                                          \n",
       "Afghanistan                                               1271   \n",
       "Albania                                                    148   \n",
       "Algeria                                                   1174   \n",
       "Andorra                                                     52   \n",
       "Angola                                                      47   \n",
       "...                                                        ...   \n",
       "Viet Nam                                                     0   \n",
       "Yemen                                                      485   \n",
       "Zambia                                                     142   \n",
       "Zimbabwe                                                    40   \n",
       "occupied Palestinian territory, including east ...          81   \n",
       "\n",
       "                                                    Cumulative_deaths  \n",
       "Country                                                                \n",
       "Afghanistan                                                     51425  \n",
       "Albania                                                          5926  \n",
       "Algeria                                                         79091  \n",
       "Andorra                                                          5480  \n",
       "Angola                                                           1122  \n",
       "...                                                               ...  \n",
       "Viet Nam                                                            0  \n",
       "Yemen                                                           18258  \n",
       "Zambia                                                           2934  \n",
       "Zimbabwe                                                          926  \n",
       "occupied Palestinian territory, including east ...               1658  \n",
       "\n",
       "[216 rows x 4 columns]"
      ]
     },
     "execution_count": 55,
     "metadata": {},
     "output_type": "execute_result"
    }
   ],
   "source": [
    "df.groupby('Country').sum()"
   ]
  },
  {
   "cell_type": "code",
   "execution_count": 56,
   "metadata": {},
   "outputs": [
    {
     "data": {
      "text/html": [
       "<div>\n",
       "<style scoped>\n",
       "    .dataframe tbody tr th:only-of-type {\n",
       "        vertical-align: middle;\n",
       "    }\n",
       "\n",
       "    .dataframe tbody tr th {\n",
       "        vertical-align: top;\n",
       "    }\n",
       "\n",
       "    .dataframe thead th {\n",
       "        text-align: right;\n",
       "    }\n",
       "</style>\n",
       "<table border=\"1\" class=\"dataframe\">\n",
       "  <thead>\n",
       "    <tr style=\"text-align: right;\">\n",
       "      <th></th>\n",
       "      <th>New_cases</th>\n",
       "      <th>Cumulative_cases</th>\n",
       "    </tr>\n",
       "    <tr>\n",
       "      <th>Country</th>\n",
       "      <th></th>\n",
       "      <th></th>\n",
       "    </tr>\n",
       "  </thead>\n",
       "  <tbody>\n",
       "    <tr>\n",
       "      <th>Afghanistan</th>\n",
       "      <td>36477</td>\n",
       "      <td>2003818</td>\n",
       "    </tr>\n",
       "    <tr>\n",
       "      <th>Albania</th>\n",
       "      <td>4997</td>\n",
       "      <td>204928</td>\n",
       "    </tr>\n",
       "    <tr>\n",
       "      <th>Algeria</th>\n",
       "      <td>28615</td>\n",
       "      <td>1207334</td>\n",
       "    </tr>\n",
       "    <tr>\n",
       "      <th>Andorra</th>\n",
       "      <td>911</td>\n",
       "      <td>95701</td>\n",
       "    </tr>\n",
       "    <tr>\n",
       "      <th>Angola</th>\n",
       "      <td>1000</td>\n",
       "      <td>23720</td>\n",
       "    </tr>\n",
       "    <tr>\n",
       "      <th>...</th>\n",
       "      <td>...</td>\n",
       "      <td>...</td>\n",
       "    </tr>\n",
       "    <tr>\n",
       "      <th>Viet Nam</th>\n",
       "      <td>446</td>\n",
       "      <td>41229</td>\n",
       "    </tr>\n",
       "    <tr>\n",
       "      <th>Yemen</th>\n",
       "      <td>1707</td>\n",
       "      <td>69229</td>\n",
       "    </tr>\n",
       "    <tr>\n",
       "      <th>Zambia</th>\n",
       "      <td>5002</td>\n",
       "      <td>135940</td>\n",
       "    </tr>\n",
       "    <tr>\n",
       "      <th>Zimbabwe</th>\n",
       "      <td>2817</td>\n",
       "      <td>53573</td>\n",
       "    </tr>\n",
       "    <tr>\n",
       "      <th>occupied Palestinian territory, including east Jerusalem</th>\n",
       "      <td>13938</td>\n",
       "      <td>290967</td>\n",
       "    </tr>\n",
       "  </tbody>\n",
       "</table>\n",
       "<p>216 rows × 2 columns</p>\n",
       "</div>"
      ],
      "text/plain": [
       "                                                    New_cases  \\\n",
       "Country                                                         \n",
       "Afghanistan                                             36477   \n",
       "Albania                                                  4997   \n",
       "Algeria                                                 28615   \n",
       "Andorra                                                   911   \n",
       "Angola                                                   1000   \n",
       "...                                                       ...   \n",
       "Viet Nam                                                  446   \n",
       "Yemen                                                    1707   \n",
       "Zambia                                                   5002   \n",
       "Zimbabwe                                                 2817   \n",
       "occupied Palestinian territory, including east ...      13938   \n",
       "\n",
       "                                                    Cumulative_cases  \n",
       "Country                                                               \n",
       "Afghanistan                                                  2003818  \n",
       "Albania                                                       204928  \n",
       "Algeria                                                      1207334  \n",
       "Andorra                                                        95701  \n",
       "Angola                                                         23720  \n",
       "...                                                              ...  \n",
       "Viet Nam                                                       41229  \n",
       "Yemen                                                          69229  \n",
       "Zambia                                                        135940  \n",
       "Zimbabwe                                                       53573  \n",
       "occupied Palestinian territory, including east ...            290967  \n",
       "\n",
       "[216 rows x 2 columns]"
      ]
     },
     "execution_count": 56,
     "metadata": {},
     "output_type": "execute_result"
    }
   ],
   "source": [
    "df.groupby('Country')[['New_cases', 'Cumulative_cases']].sum()"
   ]
  },
  {
   "cell_type": "code",
   "execution_count": 57,
   "metadata": {},
   "outputs": [
    {
     "data": {
      "text/plain": [
       "(<function sum(iterable, /, start=0)>, <function max>)"
      ]
     },
     "execution_count": 57,
     "metadata": {},
     "output_type": "execute_result"
    }
   ],
   "source": [
    "sum, max"
   ]
  },
  {
   "cell_type": "code",
   "execution_count": 58,
   "metadata": {},
   "outputs": [
    {
     "data": {
      "text/plain": [
       "{'New_cases': <function sum(iterable, /, start=0)>,\n",
       " 'Cumulative_cases': <function max>}"
      ]
     },
     "execution_count": 58,
     "metadata": {},
     "output_type": "execute_result"
    }
   ],
   "source": [
    "rule = {'New_cases': sum, 'Cumulative_cases': max}\n",
    "rule"
   ]
  },
  {
   "cell_type": "code",
   "execution_count": 59,
   "metadata": {},
   "outputs": [],
   "source": [
    "cases = (df\n",
    " .groupby(['Country'])[['New_cases', 'Cumulative_cases']]\n",
    " .agg(rule))"
   ]
  },
  {
   "cell_type": "code",
   "execution_count": 60,
   "metadata": {},
   "outputs": [
    {
     "data": {
      "text/html": [
       "<div>\n",
       "<style scoped>\n",
       "    .dataframe tbody tr th:only-of-type {\n",
       "        vertical-align: middle;\n",
       "    }\n",
       "\n",
       "    .dataframe tbody tr th {\n",
       "        vertical-align: top;\n",
       "    }\n",
       "\n",
       "    .dataframe thead th {\n",
       "        text-align: right;\n",
       "    }\n",
       "</style>\n",
       "<table border=\"1\" class=\"dataframe\">\n",
       "  <thead>\n",
       "    <tr style=\"text-align: right;\">\n",
       "      <th></th>\n",
       "      <th>New_cases</th>\n",
       "      <th>Cumulative_cases</th>\n",
       "    </tr>\n",
       "    <tr>\n",
       "      <th>Country</th>\n",
       "      <th></th>\n",
       "      <th></th>\n",
       "    </tr>\n",
       "  </thead>\n",
       "  <tbody>\n",
       "    <tr>\n",
       "      <th>Afghanistan</th>\n",
       "      <td>36477</td>\n",
       "      <td>36471</td>\n",
       "    </tr>\n",
       "    <tr>\n",
       "      <th>Albania</th>\n",
       "      <td>4997</td>\n",
       "      <td>4997</td>\n",
       "    </tr>\n",
       "    <tr>\n",
       "      <th>Algeria</th>\n",
       "      <td>28615</td>\n",
       "      <td>28615</td>\n",
       "    </tr>\n",
       "    <tr>\n",
       "      <th>Andorra</th>\n",
       "      <td>911</td>\n",
       "      <td>911</td>\n",
       "    </tr>\n",
       "    <tr>\n",
       "      <th>Angola</th>\n",
       "      <td>1000</td>\n",
       "      <td>1000</td>\n",
       "    </tr>\n",
       "    <tr>\n",
       "      <th>...</th>\n",
       "      <td>...</td>\n",
       "      <td>...</td>\n",
       "    </tr>\n",
       "    <tr>\n",
       "      <th>Viet Nam</th>\n",
       "      <td>446</td>\n",
       "      <td>446</td>\n",
       "    </tr>\n",
       "    <tr>\n",
       "      <th>Yemen</th>\n",
       "      <td>1707</td>\n",
       "      <td>1707</td>\n",
       "    </tr>\n",
       "    <tr>\n",
       "      <th>Zambia</th>\n",
       "      <td>5002</td>\n",
       "      <td>5002</td>\n",
       "    </tr>\n",
       "    <tr>\n",
       "      <th>Zimbabwe</th>\n",
       "      <td>2817</td>\n",
       "      <td>2817</td>\n",
       "    </tr>\n",
       "    <tr>\n",
       "      <th>occupied Palestinian territory, including east Jerusalem</th>\n",
       "      <td>13938</td>\n",
       "      <td>13938</td>\n",
       "    </tr>\n",
       "  </tbody>\n",
       "</table>\n",
       "<p>216 rows × 2 columns</p>\n",
       "</div>"
      ],
      "text/plain": [
       "                                                    New_cases  \\\n",
       "Country                                                         \n",
       "Afghanistan                                             36477   \n",
       "Albania                                                  4997   \n",
       "Algeria                                                 28615   \n",
       "Andorra                                                   911   \n",
       "Angola                                                   1000   \n",
       "...                                                       ...   \n",
       "Viet Nam                                                  446   \n",
       "Yemen                                                    1707   \n",
       "Zambia                                                   5002   \n",
       "Zimbabwe                                                 2817   \n",
       "occupied Palestinian territory, including east ...      13938   \n",
       "\n",
       "                                                    Cumulative_cases  \n",
       "Country                                                               \n",
       "Afghanistan                                                    36471  \n",
       "Albania                                                         4997  \n",
       "Algeria                                                        28615  \n",
       "Andorra                                                          911  \n",
       "Angola                                                          1000  \n",
       "...                                                              ...  \n",
       "Viet Nam                                                         446  \n",
       "Yemen                                                           1707  \n",
       "Zambia                                                          5002  \n",
       "Zimbabwe                                                        2817  \n",
       "occupied Palestinian territory, including east ...             13938  \n",
       "\n",
       "[216 rows x 2 columns]"
      ]
     },
     "execution_count": 60,
     "metadata": {},
     "output_type": "execute_result"
    }
   ],
   "source": [
    "cases"
   ]
  },
  {
   "cell_type": "code",
   "execution_count": 61,
   "metadata": {},
   "outputs": [
    {
     "data": {
      "text/plain": [
       "False"
      ]
     },
     "execution_count": 61,
     "metadata": {},
     "output_type": "execute_result"
    }
   ],
   "source": [
    "all(cases.New_cases == cases.Cumulative_cases)"
   ]
  },
  {
   "cell_type": "code",
   "execution_count": 62,
   "metadata": {},
   "outputs": [
    {
     "data": {
      "text/html": [
       "<div>\n",
       "<style scoped>\n",
       "    .dataframe tbody tr th:only-of-type {\n",
       "        vertical-align: middle;\n",
       "    }\n",
       "\n",
       "    .dataframe tbody tr th {\n",
       "        vertical-align: top;\n",
       "    }\n",
       "\n",
       "    .dataframe thead th {\n",
       "        text-align: right;\n",
       "    }\n",
       "</style>\n",
       "<table border=\"1\" class=\"dataframe\">\n",
       "  <thead>\n",
       "    <tr style=\"text-align: right;\">\n",
       "      <th></th>\n",
       "      <th>New_cases</th>\n",
       "      <th>Cumulative_cases</th>\n",
       "    </tr>\n",
       "    <tr>\n",
       "      <th>Country</th>\n",
       "      <th></th>\n",
       "      <th></th>\n",
       "    </tr>\n",
       "  </thead>\n",
       "  <tbody>\n",
       "    <tr>\n",
       "      <th>Afghanistan</th>\n",
       "      <td>36477</td>\n",
       "      <td>36471</td>\n",
       "    </tr>\n",
       "    <tr>\n",
       "      <th>Jordan</th>\n",
       "      <td>1182</td>\n",
       "      <td>1310</td>\n",
       "    </tr>\n",
       "    <tr>\n",
       "      <th>The United Kingdom</th>\n",
       "      <td>300696</td>\n",
       "      <td>313487</td>\n",
       "    </tr>\n",
       "  </tbody>\n",
       "</table>\n",
       "</div>"
      ],
      "text/plain": [
       "                    New_cases  Cumulative_cases\n",
       "Country                                        \n",
       "Afghanistan             36477             36471\n",
       "Jordan                   1182              1310\n",
       "The United Kingdom     300696            313487"
      ]
     },
     "execution_count": 62,
     "metadata": {},
     "output_type": "execute_result"
    }
   ],
   "source": [
    "cases[cases.New_cases != cases.Cumulative_cases]"
   ]
  },
  {
   "cell_type": "code",
   "execution_count": 63,
   "metadata": {},
   "outputs": [
    {
     "data": {
      "text/html": [
       "<div>\n",
       "<style scoped>\n",
       "    .dataframe tbody tr th:only-of-type {\n",
       "        vertical-align: middle;\n",
       "    }\n",
       "\n",
       "    .dataframe tbody tr th {\n",
       "        vertical-align: top;\n",
       "    }\n",
       "\n",
       "    .dataframe thead th {\n",
       "        text-align: right;\n",
       "    }\n",
       "</style>\n",
       "<table border=\"1\" class=\"dataframe\">\n",
       "  <thead>\n",
       "    <tr style=\"text-align: right;\">\n",
       "      <th></th>\n",
       "      <th>Country_code</th>\n",
       "      <th>Country</th>\n",
       "      <th>WHO_region</th>\n",
       "      <th>New_cases</th>\n",
       "      <th>Cumulative_cases</th>\n",
       "      <th>New_deaths</th>\n",
       "      <th>Cumulative_deaths</th>\n",
       "    </tr>\n",
       "    <tr>\n",
       "      <th>Date_reported</th>\n",
       "      <th></th>\n",
       "      <th></th>\n",
       "      <th></th>\n",
       "      <th></th>\n",
       "      <th></th>\n",
       "      <th></th>\n",
       "      <th></th>\n",
       "    </tr>\n",
       "  </thead>\n",
       "  <tbody>\n",
       "    <tr>\n",
       "      <th>2020-03-23</th>\n",
       "      <td>LU</td>\n",
       "      <td>Luxembourg</td>\n",
       "      <td>EURO</td>\n",
       "      <td>-582</td>\n",
       "      <td>88</td>\n",
       "      <td>0</td>\n",
       "      <td>8</td>\n",
       "    </tr>\n",
       "    <tr>\n",
       "      <th>2020-03-23</th>\n",
       "      <td>LV</td>\n",
       "      <td>Latvia</td>\n",
       "      <td>EURO</td>\n",
       "      <td>-61</td>\n",
       "      <td>63</td>\n",
       "      <td>0</td>\n",
       "      <td>0</td>\n",
       "    </tr>\n",
       "    <tr>\n",
       "      <th>2020-03-23</th>\n",
       "      <td>LT</td>\n",
       "      <td>Lithuania</td>\n",
       "      <td>EURO</td>\n",
       "      <td>-26</td>\n",
       "      <td>79</td>\n",
       "      <td>0</td>\n",
       "      <td>1</td>\n",
       "    </tr>\n",
       "    <tr>\n",
       "      <th>2020-03-23</th>\n",
       "      <td>NO</td>\n",
       "      <td>Norway</td>\n",
       "      <td>EURO</td>\n",
       "      <td>-1801</td>\n",
       "      <td>125</td>\n",
       "      <td>0</td>\n",
       "      <td>7</td>\n",
       "    </tr>\n",
       "    <tr>\n",
       "      <th>2020-03-23</th>\n",
       "      <td>NL</td>\n",
       "      <td>Netherlands</td>\n",
       "      <td>EURO</td>\n",
       "      <td>-3525</td>\n",
       "      <td>106</td>\n",
       "      <td>43</td>\n",
       "      <td>179</td>\n",
       "    </tr>\n",
       "    <tr>\n",
       "      <th>2020-03-25</th>\n",
       "      <td>LI</td>\n",
       "      <td>Liechtenstein</td>\n",
       "      <td>EURO</td>\n",
       "      <td>-24</td>\n",
       "      <td>47</td>\n",
       "      <td>0</td>\n",
       "      <td>0</td>\n",
       "    </tr>\n",
       "    <tr>\n",
       "      <th>2020-03-30</th>\n",
       "      <td>MC</td>\n",
       "      <td>Monaco</td>\n",
       "      <td>EURO</td>\n",
       "      <td>-60</td>\n",
       "      <td>31</td>\n",
       "      <td>0</td>\n",
       "      <td>0</td>\n",
       "    </tr>\n",
       "    <tr>\n",
       "      <th>2020-04-29</th>\n",
       "      <td>LT</td>\n",
       "      <td>Lithuania</td>\n",
       "      <td>EURO</td>\n",
       "      <td>-105</td>\n",
       "      <td>1344</td>\n",
       "      <td>3</td>\n",
       "      <td>44</td>\n",
       "    </tr>\n",
       "    <tr>\n",
       "      <th>2020-05-03</th>\n",
       "      <td>PT</td>\n",
       "      <td>Portugal</td>\n",
       "      <td>EURO</td>\n",
       "      <td>-161</td>\n",
       "      <td>25190</td>\n",
       "      <td>16</td>\n",
       "      <td>1023</td>\n",
       "    </tr>\n",
       "    <tr>\n",
       "      <th>2020-05-07</th>\n",
       "      <td>EC</td>\n",
       "      <td>Ecuador</td>\n",
       "      <td>AMRO</td>\n",
       "      <td>-2461</td>\n",
       "      <td>29420</td>\n",
       "      <td>49</td>\n",
       "      <td>1618</td>\n",
       "    </tr>\n",
       "    <tr>\n",
       "      <th>2020-05-08</th>\n",
       "      <td>ST</td>\n",
       "      <td>Sao Tome and Principe</td>\n",
       "      <td>AFRO</td>\n",
       "      <td>-9</td>\n",
       "      <td>165</td>\n",
       "      <td>1</td>\n",
       "      <td>4</td>\n",
       "    </tr>\n",
       "    <tr>\n",
       "      <th>2020-05-09</th>\n",
       "      <td>MG</td>\n",
       "      <td>Madagascar</td>\n",
       "      <td>AFRO</td>\n",
       "      <td>-24</td>\n",
       "      <td>169</td>\n",
       "      <td>0</td>\n",
       "      <td>0</td>\n",
       "    </tr>\n",
       "    <tr>\n",
       "      <th>2020-05-10</th>\n",
       "      <td>ST</td>\n",
       "      <td>Sao Tome and Principe</td>\n",
       "      <td>AFRO</td>\n",
       "      <td>-43</td>\n",
       "      <td>165</td>\n",
       "      <td>-1</td>\n",
       "      <td>4</td>\n",
       "    </tr>\n",
       "    <tr>\n",
       "      <th>2020-05-10</th>\n",
       "      <td>EC</td>\n",
       "      <td>Ecuador</td>\n",
       "      <td>AMRO</td>\n",
       "      <td>-1480</td>\n",
       "      <td>28818</td>\n",
       "      <td>50</td>\n",
       "      <td>1704</td>\n",
       "    </tr>\n",
       "    <tr>\n",
       "      <th>2020-05-12</th>\n",
       "      <td>EC</td>\n",
       "      <td>Ecuador</td>\n",
       "      <td>AMRO</td>\n",
       "      <td>-50</td>\n",
       "      <td>29509</td>\n",
       "      <td>18</td>\n",
       "      <td>2145</td>\n",
       "    </tr>\n",
       "    <tr>\n",
       "      <th>2020-05-14</th>\n",
       "      <td>HN</td>\n",
       "      <td>Honduras</td>\n",
       "      <td>AMRO</td>\n",
       "      <td>-20</td>\n",
       "      <td>2080</td>\n",
       "      <td>5</td>\n",
       "      <td>121</td>\n",
       "    </tr>\n",
       "    <tr>\n",
       "      <th>2020-05-18</th>\n",
       "      <td>IL</td>\n",
       "      <td>Israel</td>\n",
       "      <td>EURO</td>\n",
       "      <td>-1</td>\n",
       "      <td>16607</td>\n",
       "      <td>3</td>\n",
       "      <td>271</td>\n",
       "    </tr>\n",
       "    <tr>\n",
       "      <th>2020-05-19</th>\n",
       "      <td>BJ</td>\n",
       "      <td>Benin</td>\n",
       "      <td>AFRO</td>\n",
       "      <td>-210</td>\n",
       "      <td>129</td>\n",
       "      <td>0</td>\n",
       "      <td>2</td>\n",
       "    </tr>\n",
       "    <tr>\n",
       "      <th>2020-05-19</th>\n",
       "      <td>ST</td>\n",
       "      <td>Sao Tome and Principe</td>\n",
       "      <td>AFRO</td>\n",
       "      <td>-4</td>\n",
       "      <td>165</td>\n",
       "      <td>0</td>\n",
       "      <td>7</td>\n",
       "    </tr>\n",
       "    <tr>\n",
       "      <th>2020-05-21</th>\n",
       "      <td>GB</td>\n",
       "      <td>The United Kingdom</td>\n",
       "      <td>EURO</td>\n",
       "      <td>-525</td>\n",
       "      <td>248297</td>\n",
       "      <td>363</td>\n",
       "      <td>35704</td>\n",
       "    </tr>\n",
       "    <tr>\n",
       "      <th>2020-05-23</th>\n",
       "      <td>PS</td>\n",
       "      <td>occupied Palestinian territory, including east...</td>\n",
       "      <td>EMRO</td>\n",
       "      <td>-6</td>\n",
       "      <td>602</td>\n",
       "      <td>0</td>\n",
       "      <td>4</td>\n",
       "    </tr>\n",
       "    <tr>\n",
       "      <th>2020-05-25</th>\n",
       "      <td>UG</td>\n",
       "      <td>Uganda</td>\n",
       "      <td>AFRO</td>\n",
       "      <td>-8</td>\n",
       "      <td>304</td>\n",
       "      <td>0</td>\n",
       "      <td>0</td>\n",
       "    </tr>\n",
       "    <tr>\n",
       "      <th>2020-05-26</th>\n",
       "      <td>ST</td>\n",
       "      <td>Sao Tome and Principe</td>\n",
       "      <td>AFRO</td>\n",
       "      <td>-9</td>\n",
       "      <td>165</td>\n",
       "      <td>1</td>\n",
       "      <td>10</td>\n",
       "    </tr>\n",
       "    <tr>\n",
       "      <th>2020-06-03</th>\n",
       "      <td>FR</td>\n",
       "      <td>France</td>\n",
       "      <td>EURO</td>\n",
       "      <td>-840</td>\n",
       "      <td>147935</td>\n",
       "      <td>107</td>\n",
       "      <td>28883</td>\n",
       "    </tr>\n",
       "    <tr>\n",
       "      <th>2020-06-06</th>\n",
       "      <td>SX</td>\n",
       "      <td>Sint Maarten</td>\n",
       "      <td>AMRO</td>\n",
       "      <td>-1</td>\n",
       "      <td>77</td>\n",
       "      <td>0</td>\n",
       "      <td>15</td>\n",
       "    </tr>\n",
       "    <tr>\n",
       "      <th>2020-06-17</th>\n",
       "      <td>RE</td>\n",
       "      <td>RÃ©union</td>\n",
       "      <td>AFRO</td>\n",
       "      <td>-1</td>\n",
       "      <td>495</td>\n",
       "      <td>0</td>\n",
       "      <td>1</td>\n",
       "    </tr>\n",
       "    <tr>\n",
       "      <th>2020-06-18</th>\n",
       "      <td>ST</td>\n",
       "      <td>Sao Tome and Principe</td>\n",
       "      <td>AFRO</td>\n",
       "      <td>-10</td>\n",
       "      <td>388</td>\n",
       "      <td>0</td>\n",
       "      <td>10</td>\n",
       "    </tr>\n",
       "    <tr>\n",
       "      <th>2020-06-20</th>\n",
       "      <td>IT</td>\n",
       "      <td>Italy</td>\n",
       "      <td>EURO</td>\n",
       "      <td>-148</td>\n",
       "      <td>238011</td>\n",
       "      <td>47</td>\n",
       "      <td>34561</td>\n",
       "    </tr>\n",
       "    <tr>\n",
       "      <th>2020-06-22</th>\n",
       "      <td>UG</td>\n",
       "      <td>Uganda</td>\n",
       "      <td>AFRO</td>\n",
       "      <td>-68</td>\n",
       "      <td>755</td>\n",
       "      <td>0</td>\n",
       "      <td>0</td>\n",
       "    </tr>\n",
       "    <tr>\n",
       "      <th>2020-06-25</th>\n",
       "      <td>FR</td>\n",
       "      <td>France</td>\n",
       "      <td>EURO</td>\n",
       "      <td>-169</td>\n",
       "      <td>155087</td>\n",
       "      <td>7</td>\n",
       "      <td>29655</td>\n",
       "    </tr>\n",
       "    <tr>\n",
       "      <th>2020-06-27</th>\n",
       "      <td>CW</td>\n",
       "      <td>CuraÃ§ao</td>\n",
       "      <td>AMRO</td>\n",
       "      <td>-1</td>\n",
       "      <td>23</td>\n",
       "      <td>0</td>\n",
       "      <td>1</td>\n",
       "    </tr>\n",
       "    <tr>\n",
       "      <th>2020-07-03</th>\n",
       "      <td>GB</td>\n",
       "      <td>The United Kingdom</td>\n",
       "      <td>EURO</td>\n",
       "      <td>-29726</td>\n",
       "      <td>283761</td>\n",
       "      <td>89</td>\n",
       "      <td>43995</td>\n",
       "    </tr>\n",
       "    <tr>\n",
       "      <th>2020-07-23</th>\n",
       "      <td>SC</td>\n",
       "      <td>Seychelles</td>\n",
       "      <td>AFRO</td>\n",
       "      <td>-1</td>\n",
       "      <td>107</td>\n",
       "      <td>0</td>\n",
       "      <td>0</td>\n",
       "    </tr>\n",
       "    <tr>\n",
       "      <th>2020-07-27</th>\n",
       "      <td>JO</td>\n",
       "      <td>Jordan</td>\n",
       "      <td>EMRO</td>\n",
       "      <td>-142</td>\n",
       "      <td>1168</td>\n",
       "      <td>0</td>\n",
       "      <td>11</td>\n",
       "    </tr>\n",
       "  </tbody>\n",
       "</table>\n",
       "</div>"
      ],
      "text/plain": [
       "              Country_code                                            Country  \\\n",
       "Date_reported                                                                   \n",
       "2020-03-23              LU                                         Luxembourg   \n",
       "2020-03-23              LV                                             Latvia   \n",
       "2020-03-23              LT                                          Lithuania   \n",
       "2020-03-23              NO                                             Norway   \n",
       "2020-03-23              NL                                        Netherlands   \n",
       "2020-03-25              LI                                      Liechtenstein   \n",
       "2020-03-30              MC                                             Monaco   \n",
       "2020-04-29              LT                                          Lithuania   \n",
       "2020-05-03              PT                                           Portugal   \n",
       "2020-05-07              EC                                            Ecuador   \n",
       "2020-05-08              ST                              Sao Tome and Principe   \n",
       "2020-05-09              MG                                         Madagascar   \n",
       "2020-05-10              ST                              Sao Tome and Principe   \n",
       "2020-05-10              EC                                            Ecuador   \n",
       "2020-05-12              EC                                            Ecuador   \n",
       "2020-05-14              HN                                           Honduras   \n",
       "2020-05-18              IL                                             Israel   \n",
       "2020-05-19              BJ                                              Benin   \n",
       "2020-05-19              ST                              Sao Tome and Principe   \n",
       "2020-05-21              GB                                 The United Kingdom   \n",
       "2020-05-23              PS  occupied Palestinian territory, including east...   \n",
       "2020-05-25              UG                                             Uganda   \n",
       "2020-05-26              ST                              Sao Tome and Principe   \n",
       "2020-06-03              FR                                             France   \n",
       "2020-06-06              SX                                       Sint Maarten   \n",
       "2020-06-17              RE                                           RÃ©union   \n",
       "2020-06-18              ST                              Sao Tome and Principe   \n",
       "2020-06-20              IT                                              Italy   \n",
       "2020-06-22              UG                                             Uganda   \n",
       "2020-06-25              FR                                             France   \n",
       "2020-06-27              CW                                           CuraÃ§ao   \n",
       "2020-07-03              GB                                 The United Kingdom   \n",
       "2020-07-23              SC                                         Seychelles   \n",
       "2020-07-27              JO                                             Jordan   \n",
       "\n",
       "              WHO_region  New_cases  Cumulative_cases  New_deaths  \\\n",
       "Date_reported                                                       \n",
       "2020-03-23          EURO       -582                88           0   \n",
       "2020-03-23          EURO        -61                63           0   \n",
       "2020-03-23          EURO        -26                79           0   \n",
       "2020-03-23          EURO      -1801               125           0   \n",
       "2020-03-23          EURO      -3525               106          43   \n",
       "2020-03-25          EURO        -24                47           0   \n",
       "2020-03-30          EURO        -60                31           0   \n",
       "2020-04-29          EURO       -105              1344           3   \n",
       "2020-05-03          EURO       -161             25190          16   \n",
       "2020-05-07          AMRO      -2461             29420          49   \n",
       "2020-05-08          AFRO         -9               165           1   \n",
       "2020-05-09          AFRO        -24               169           0   \n",
       "2020-05-10          AFRO        -43               165          -1   \n",
       "2020-05-10          AMRO      -1480             28818          50   \n",
       "2020-05-12          AMRO        -50             29509          18   \n",
       "2020-05-14          AMRO        -20              2080           5   \n",
       "2020-05-18          EURO         -1             16607           3   \n",
       "2020-05-19          AFRO       -210               129           0   \n",
       "2020-05-19          AFRO         -4               165           0   \n",
       "2020-05-21          EURO       -525            248297         363   \n",
       "2020-05-23          EMRO         -6               602           0   \n",
       "2020-05-25          AFRO         -8               304           0   \n",
       "2020-05-26          AFRO         -9               165           1   \n",
       "2020-06-03          EURO       -840            147935         107   \n",
       "2020-06-06          AMRO         -1                77           0   \n",
       "2020-06-17          AFRO         -1               495           0   \n",
       "2020-06-18          AFRO        -10               388           0   \n",
       "2020-06-20          EURO       -148            238011          47   \n",
       "2020-06-22          AFRO        -68               755           0   \n",
       "2020-06-25          EURO       -169            155087           7   \n",
       "2020-06-27          AMRO         -1                23           0   \n",
       "2020-07-03          EURO     -29726            283761          89   \n",
       "2020-07-23          AFRO         -1               107           0   \n",
       "2020-07-27          EMRO       -142              1168           0   \n",
       "\n",
       "               Cumulative_deaths  \n",
       "Date_reported                     \n",
       "2020-03-23                     8  \n",
       "2020-03-23                     0  \n",
       "2020-03-23                     1  \n",
       "2020-03-23                     7  \n",
       "2020-03-23                   179  \n",
       "2020-03-25                     0  \n",
       "2020-03-30                     0  \n",
       "2020-04-29                    44  \n",
       "2020-05-03                  1023  \n",
       "2020-05-07                  1618  \n",
       "2020-05-08                     4  \n",
       "2020-05-09                     0  \n",
       "2020-05-10                     4  \n",
       "2020-05-10                  1704  \n",
       "2020-05-12                  2145  \n",
       "2020-05-14                   121  \n",
       "2020-05-18                   271  \n",
       "2020-05-19                     2  \n",
       "2020-05-19                     7  \n",
       "2020-05-21                 35704  \n",
       "2020-05-23                     4  \n",
       "2020-05-25                     0  \n",
       "2020-05-26                    10  \n",
       "2020-06-03                 28883  \n",
       "2020-06-06                    15  \n",
       "2020-06-17                     1  \n",
       "2020-06-18                    10  \n",
       "2020-06-20                 34561  \n",
       "2020-06-22                     0  \n",
       "2020-06-25                 29655  \n",
       "2020-06-27                     1  \n",
       "2020-07-03                 43995  \n",
       "2020-07-23                     0  \n",
       "2020-07-27                    11  "
      ]
     },
     "execution_count": 63,
     "metadata": {},
     "output_type": "execute_result"
    }
   ],
   "source": [
    "df[df.New_cases < 0]"
   ]
  },
  {
   "cell_type": "markdown",
   "metadata": {},
   "source": [
    "### Group by 2 columns"
   ]
  },
  {
   "cell_type": "markdown",
   "metadata": {},
   "source": [
    "https://en.wikipedia.org/wiki/WHO_regions"
   ]
  },
  {
   "cell_type": "code",
   "execution_count": 64,
   "metadata": {},
   "outputs": [
    {
     "data": {
      "text/plain": [
       "array(['WPRO', 'SEARO', 'AMRO', 'EURO', 'EMRO', 'Other', 'AFRO'],\n",
       "      dtype=object)"
      ]
     },
     "execution_count": 64,
     "metadata": {},
     "output_type": "execute_result"
    }
   ],
   "source": [
    "df.WHO_region.unique()"
   ]
  },
  {
   "cell_type": "code",
   "execution_count": 65,
   "metadata": {},
   "outputs": [
    {
     "data": {
      "text/plain": [
       "Date_reported  WHO_region\n",
       "2020-01-11     WPRO             41\n",
       "2020-01-12     WPRO              0\n",
       "2020-01-13     SEARO             1\n",
       "               WPRO              0\n",
       "2020-01-14     SEARO             0\n",
       "                             ...  \n",
       "2020-07-29     EMRO          13037\n",
       "               EURO          20993\n",
       "               Other             0\n",
       "               SEARO         53676\n",
       "               WPRO           3620\n",
       "Name: New_cases, Length: 1295, dtype: int64"
      ]
     },
     "execution_count": 65,
     "metadata": {},
     "output_type": "execute_result"
    }
   ],
   "source": [
    "s = df.groupby(['Date_reported', 'WHO_region'])['New_cases'].sum()\n",
    "s"
   ]
  },
  {
   "cell_type": "markdown",
   "metadata": {},
   "source": [
    "### Multiindex Series"
   ]
  },
  {
   "cell_type": "code",
   "execution_count": 66,
   "metadata": {},
   "outputs": [
    {
     "data": {
      "text/plain": [
       "pandas.core.series.Series"
      ]
     },
     "execution_count": 66,
     "metadata": {},
     "output_type": "execute_result"
    }
   ],
   "source": [
    "type(s)"
   ]
  },
  {
   "cell_type": "code",
   "execution_count": 67,
   "metadata": {},
   "outputs": [
    {
     "data": {
      "text/plain": [
       "Date_reported\n",
       "2020-01-24        3\n",
       "2020-01-25        0\n",
       "2020-01-26        0\n",
       "2020-01-27        0\n",
       "2020-01-28        5\n",
       "              ...  \n",
       "2020-07-25    23768\n",
       "2020-07-26    22831\n",
       "2020-07-27    19005\n",
       "2020-07-28    21324\n",
       "2020-07-29    20993\n",
       "Name: New_cases, Length: 188, dtype: int64"
      ]
     },
     "execution_count": 67,
     "metadata": {},
     "output_type": "execute_result"
    }
   ],
   "source": [
    "s[:, 'EURO']"
   ]
  },
  {
   "cell_type": "code",
   "execution_count": 68,
   "metadata": {},
   "outputs": [
    {
     "data": {
      "text/html": [
       "<div>\n",
       "<style scoped>\n",
       "    .dataframe tbody tr th:only-of-type {\n",
       "        vertical-align: middle;\n",
       "    }\n",
       "\n",
       "    .dataframe tbody tr th {\n",
       "        vertical-align: top;\n",
       "    }\n",
       "\n",
       "    .dataframe thead th {\n",
       "        text-align: right;\n",
       "    }\n",
       "</style>\n",
       "<table border=\"1\" class=\"dataframe\">\n",
       "  <thead>\n",
       "    <tr style=\"text-align: right;\">\n",
       "      <th>WHO_region</th>\n",
       "      <th>AFRO</th>\n",
       "      <th>AMRO</th>\n",
       "      <th>EMRO</th>\n",
       "      <th>EURO</th>\n",
       "      <th>Other</th>\n",
       "      <th>SEARO</th>\n",
       "      <th>WPRO</th>\n",
       "    </tr>\n",
       "    <tr>\n",
       "      <th>Date_reported</th>\n",
       "      <th></th>\n",
       "      <th></th>\n",
       "      <th></th>\n",
       "      <th></th>\n",
       "      <th></th>\n",
       "      <th></th>\n",
       "      <th></th>\n",
       "    </tr>\n",
       "  </thead>\n",
       "  <tbody>\n",
       "    <tr>\n",
       "      <th>2020-01-11</th>\n",
       "      <td>NaN</td>\n",
       "      <td>NaN</td>\n",
       "      <td>NaN</td>\n",
       "      <td>NaN</td>\n",
       "      <td>NaN</td>\n",
       "      <td>NaN</td>\n",
       "      <td>41.0</td>\n",
       "    </tr>\n",
       "    <tr>\n",
       "      <th>2020-01-12</th>\n",
       "      <td>NaN</td>\n",
       "      <td>NaN</td>\n",
       "      <td>NaN</td>\n",
       "      <td>NaN</td>\n",
       "      <td>NaN</td>\n",
       "      <td>NaN</td>\n",
       "      <td>0.0</td>\n",
       "    </tr>\n",
       "    <tr>\n",
       "      <th>2020-01-13</th>\n",
       "      <td>NaN</td>\n",
       "      <td>NaN</td>\n",
       "      <td>NaN</td>\n",
       "      <td>NaN</td>\n",
       "      <td>NaN</td>\n",
       "      <td>1.0</td>\n",
       "      <td>0.0</td>\n",
       "    </tr>\n",
       "    <tr>\n",
       "      <th>2020-01-14</th>\n",
       "      <td>NaN</td>\n",
       "      <td>NaN</td>\n",
       "      <td>NaN</td>\n",
       "      <td>NaN</td>\n",
       "      <td>NaN</td>\n",
       "      <td>0.0</td>\n",
       "      <td>1.0</td>\n",
       "    </tr>\n",
       "    <tr>\n",
       "      <th>2020-01-15</th>\n",
       "      <td>NaN</td>\n",
       "      <td>NaN</td>\n",
       "      <td>NaN</td>\n",
       "      <td>NaN</td>\n",
       "      <td>NaN</td>\n",
       "      <td>0.0</td>\n",
       "      <td>0.0</td>\n",
       "    </tr>\n",
       "    <tr>\n",
       "      <th>...</th>\n",
       "      <td>...</td>\n",
       "      <td>...</td>\n",
       "      <td>...</td>\n",
       "      <td>...</td>\n",
       "      <td>...</td>\n",
       "      <td>...</td>\n",
       "      <td>...</td>\n",
       "    </tr>\n",
       "    <tr>\n",
       "      <th>2020-07-25</th>\n",
       "      <td>20614.0</td>\n",
       "      <td>170611.0</td>\n",
       "      <td>14019.0</td>\n",
       "      <td>23768.0</td>\n",
       "      <td>0.0</td>\n",
       "      <td>53430.0</td>\n",
       "      <td>3750.0</td>\n",
       "    </tr>\n",
       "    <tr>\n",
       "      <th>2020-07-26</th>\n",
       "      <td>16245.0</td>\n",
       "      <td>167734.0</td>\n",
       "      <td>13614.0</td>\n",
       "      <td>22831.0</td>\n",
       "      <td>0.0</td>\n",
       "      <td>53254.0</td>\n",
       "      <td>3726.0</td>\n",
       "    </tr>\n",
       "    <tr>\n",
       "      <th>2020-07-27</th>\n",
       "      <td>16713.0</td>\n",
       "      <td>150089.0</td>\n",
       "      <td>12336.0</td>\n",
       "      <td>19005.0</td>\n",
       "      <td>0.0</td>\n",
       "      <td>53897.0</td>\n",
       "      <td>3830.0</td>\n",
       "    </tr>\n",
       "    <tr>\n",
       "      <th>2020-07-28</th>\n",
       "      <td>13185.0</td>\n",
       "      <td>118828.0</td>\n",
       "      <td>12382.0</td>\n",
       "      <td>21324.0</td>\n",
       "      <td>0.0</td>\n",
       "      <td>52235.0</td>\n",
       "      <td>3842.0</td>\n",
       "    </tr>\n",
       "    <tr>\n",
       "      <th>2020-07-29</th>\n",
       "      <td>12239.0</td>\n",
       "      <td>111562.0</td>\n",
       "      <td>13037.0</td>\n",
       "      <td>20993.0</td>\n",
       "      <td>0.0</td>\n",
       "      <td>53676.0</td>\n",
       "      <td>3620.0</td>\n",
       "    </tr>\n",
       "  </tbody>\n",
       "</table>\n",
       "<p>201 rows × 7 columns</p>\n",
       "</div>"
      ],
      "text/plain": [
       "WHO_region        AFRO      AMRO     EMRO     EURO  Other    SEARO    WPRO\n",
       "Date_reported                                                             \n",
       "2020-01-11         NaN       NaN      NaN      NaN    NaN      NaN    41.0\n",
       "2020-01-12         NaN       NaN      NaN      NaN    NaN      NaN     0.0\n",
       "2020-01-13         NaN       NaN      NaN      NaN    NaN      1.0     0.0\n",
       "2020-01-14         NaN       NaN      NaN      NaN    NaN      0.0     1.0\n",
       "2020-01-15         NaN       NaN      NaN      NaN    NaN      0.0     0.0\n",
       "...                ...       ...      ...      ...    ...      ...     ...\n",
       "2020-07-25     20614.0  170611.0  14019.0  23768.0    0.0  53430.0  3750.0\n",
       "2020-07-26     16245.0  167734.0  13614.0  22831.0    0.0  53254.0  3726.0\n",
       "2020-07-27     16713.0  150089.0  12336.0  19005.0    0.0  53897.0  3830.0\n",
       "2020-07-28     13185.0  118828.0  12382.0  21324.0    0.0  52235.0  3842.0\n",
       "2020-07-29     12239.0  111562.0  13037.0  20993.0    0.0  53676.0  3620.0\n",
       "\n",
       "[201 rows x 7 columns]"
      ]
     },
     "execution_count": 68,
     "metadata": {},
     "output_type": "execute_result"
    }
   ],
   "source": [
    "piv = s.unstack('WHO_region')\n",
    "piv"
   ]
  },
  {
   "cell_type": "code",
   "execution_count": 69,
   "metadata": {},
   "outputs": [
    {
     "data": {
      "text/plain": [
       "Date_reported\n",
       "2020-01-24        3\n",
       "2020-01-25        0\n",
       "2020-01-26        0\n",
       "2020-01-27        0\n",
       "2020-01-28        5\n",
       "              ...  \n",
       "2020-07-25    23768\n",
       "2020-07-26    22831\n",
       "2020-07-27    19005\n",
       "2020-07-28    21324\n",
       "2020-07-29    20993\n",
       "Name: EURO, Length: 188, dtype: int32"
      ]
     },
     "execution_count": 69,
     "metadata": {},
     "output_type": "execute_result"
    }
   ],
   "source": [
    "piv.loc[:, 'EURO'].dropna().astype(int)"
   ]
  },
  {
   "cell_type": "code",
   "execution_count": 70,
   "metadata": {},
   "outputs": [
    {
     "data": {
      "text/plain": [
       "<matplotlib.axes._subplots.AxesSubplot at 0x1e429505670>"
      ]
     },
     "execution_count": 70,
     "metadata": {},
     "output_type": "execute_result"
    },
    {
     "data": {
      "image/png": "[encoded data removed]",
      "text/plain": [
       "<Figure size 432x288 with 1 Axes>"
      ]
     },
     "metadata": {
      "needs_background": "light"
     },
     "output_type": "display_data"
    }
   ],
   "source": [
    "piv.plot(title='New_cases')"
   ]
  },
  {
   "cell_type": "code",
   "execution_count": 71,
   "metadata": {},
   "outputs": [
    {
     "data": {
      "text/plain": [
       "[]"
      ]
     },
     "execution_count": 71,
     "metadata": {},
     "output_type": "execute_result"
    },
    {
     "data": {
      "image/png": "[encoded data removed]",
      "text/plain": [
       "<Figure size 864x288 with 1 Axes>"
      ]
     },
     "metadata": {
      "needs_background": "light"
     },
     "output_type": "display_data"
    }
   ],
   "source": [
    "ax = piv.plot(title='New_cases', kind='bar', stacked=True, figsize=(12, 4))\n",
    "ax.set_xticks([])"
   ]
  },
  {
   "cell_type": "code",
   "execution_count": 72,
   "metadata": {},
   "outputs": [
    {
     "data": {
      "text/plain": [
       "<matplotlib.axes._subplots.AxesSubplot at 0x1e42a1e8c40>"
      ]
     },
     "execution_count": 72,
     "metadata": {},
     "output_type": "execute_result"
    },
    {
     "data": {
      "image/png": "[encoded data removed]",
      "text/plain": [
       "<Figure size 432x288 with 1 Axes>"
      ]
     },
     "metadata": {
      "needs_background": "light"
     },
     "output_type": "display_data"
    }
   ],
   "source": [
    "pd.pivot_table(df, values='New_cases', index='Date_reported', columns='WHO_region', aggfunc=sum).plot()"
   ]
  },
  {
   "cell_type": "code",
   "execution_count": 73,
   "metadata": {},
   "outputs": [
    {
     "data": {
      "text/plain": [
       "<matplotlib.axes._subplots.AxesSubplot at 0x1e42a6565e0>"
      ]
     },
     "execution_count": 73,
     "metadata": {},
     "output_type": "execute_result"
    },
    {
     "data": {
      "image/png": "[encoded data removed]",
      "text/plain": [
       "<Figure size 432x288 with 1 Axes>"
      ]
     },
     "metadata": {
      "needs_background": "light"
     },
     "output_type": "display_data"
    }
   ],
   "source": [
    "pd.pivot_table(df, values='New_deaths', index='Date_reported', columns='WHO_region', aggfunc=sum).plot()"
   ]
  },
  {
   "cell_type": "markdown",
   "metadata": {},
   "source": [
    "## Add new columns"
   ]
  },
  {
   "cell_type": "code",
   "execution_count": 74,
   "metadata": {},
   "outputs": [
    {
     "data": {
      "text/html": [
       "<div>\n",
       "<style scoped>\n",
       "    .dataframe tbody tr th:only-of-type {\n",
       "        vertical-align: middle;\n",
       "    }\n",
       "\n",
       "    .dataframe tbody tr th {\n",
       "        vertical-align: top;\n",
       "    }\n",
       "\n",
       "    .dataframe thead th {\n",
       "        text-align: right;\n",
       "    }\n",
       "</style>\n",
       "<table border=\"1\" class=\"dataframe\">\n",
       "  <thead>\n",
       "    <tr style=\"text-align: right;\">\n",
       "      <th></th>\n",
       "      <th>Country_code</th>\n",
       "      <th>Country</th>\n",
       "      <th>WHO_region</th>\n",
       "      <th>New_cases</th>\n",
       "      <th>Cumulative_cases</th>\n",
       "      <th>New_deaths</th>\n",
       "      <th>Cumulative_deaths</th>\n",
       "      <th>Mortality</th>\n",
       "    </tr>\n",
       "    <tr>\n",
       "      <th>Date_reported</th>\n",
       "      <th></th>\n",
       "      <th></th>\n",
       "      <th></th>\n",
       "      <th></th>\n",
       "      <th></th>\n",
       "      <th></th>\n",
       "      <th></th>\n",
       "      <th></th>\n",
       "    </tr>\n",
       "  </thead>\n",
       "  <tbody>\n",
       "    <tr>\n",
       "      <th>2020-01-11</th>\n",
       "      <td>CN</td>\n",
       "      <td>China</td>\n",
       "      <td>WPRO</td>\n",
       "      <td>41</td>\n",
       "      <td>41</td>\n",
       "      <td>1</td>\n",
       "      <td>1</td>\n",
       "      <td>0.024390</td>\n",
       "    </tr>\n",
       "    <tr>\n",
       "      <th>2020-01-12</th>\n",
       "      <td>CN</td>\n",
       "      <td>China</td>\n",
       "      <td>WPRO</td>\n",
       "      <td>0</td>\n",
       "      <td>41</td>\n",
       "      <td>0</td>\n",
       "      <td>1</td>\n",
       "      <td>0.024390</td>\n",
       "    </tr>\n",
       "    <tr>\n",
       "      <th>2020-01-13</th>\n",
       "      <td>TH</td>\n",
       "      <td>Thailand</td>\n",
       "      <td>SEARO</td>\n",
       "      <td>1</td>\n",
       "      <td>1</td>\n",
       "      <td>0</td>\n",
       "      <td>0</td>\n",
       "      <td>0.000000</td>\n",
       "    </tr>\n",
       "    <tr>\n",
       "      <th>2020-01-13</th>\n",
       "      <td>CN</td>\n",
       "      <td>China</td>\n",
       "      <td>WPRO</td>\n",
       "      <td>0</td>\n",
       "      <td>41</td>\n",
       "      <td>0</td>\n",
       "      <td>1</td>\n",
       "      <td>0.024390</td>\n",
       "    </tr>\n",
       "    <tr>\n",
       "      <th>2020-01-14</th>\n",
       "      <td>TH</td>\n",
       "      <td>Thailand</td>\n",
       "      <td>SEARO</td>\n",
       "      <td>0</td>\n",
       "      <td>1</td>\n",
       "      <td>0</td>\n",
       "      <td>0</td>\n",
       "      <td>0.000000</td>\n",
       "    </tr>\n",
       "    <tr>\n",
       "      <th>...</th>\n",
       "      <td>...</td>\n",
       "      <td>...</td>\n",
       "      <td>...</td>\n",
       "      <td>...</td>\n",
       "      <td>...</td>\n",
       "      <td>...</td>\n",
       "      <td>...</td>\n",
       "      <td>...</td>\n",
       "    </tr>\n",
       "    <tr>\n",
       "      <th>2020-07-29</th>\n",
       "      <td>HT</td>\n",
       "      <td>Haiti</td>\n",
       "      <td>AMRO</td>\n",
       "      <td>25</td>\n",
       "      <td>7340</td>\n",
       "      <td>1</td>\n",
       "      <td>158</td>\n",
       "      <td>0.021526</td>\n",
       "    </tr>\n",
       "    <tr>\n",
       "      <th>2020-07-29</th>\n",
       "      <td>GY</td>\n",
       "      <td>Guyana</td>\n",
       "      <td>AMRO</td>\n",
       "      <td>19</td>\n",
       "      <td>389</td>\n",
       "      <td>0</td>\n",
       "      <td>20</td>\n",
       "      <td>0.051414</td>\n",
       "    </tr>\n",
       "    <tr>\n",
       "      <th>2020-07-29</th>\n",
       "      <td>GW</td>\n",
       "      <td>Guinea-Bissau</td>\n",
       "      <td>AFRO</td>\n",
       "      <td>0</td>\n",
       "      <td>1954</td>\n",
       "      <td>0</td>\n",
       "      <td>26</td>\n",
       "      <td>0.013306</td>\n",
       "    </tr>\n",
       "    <tr>\n",
       "      <th>2020-07-29</th>\n",
       "      <td>AM</td>\n",
       "      <td>Armenia</td>\n",
       "      <td>EURO</td>\n",
       "      <td>308</td>\n",
       "      <td>37937</td>\n",
       "      <td>4</td>\n",
       "      <td>723</td>\n",
       "      <td>0.019058</td>\n",
       "    </tr>\n",
       "    <tr>\n",
       "      <th>2020-07-29</th>\n",
       "      <td>ZW</td>\n",
       "      <td>Zimbabwe</td>\n",
       "      <td>AFRO</td>\n",
       "      <td>113</td>\n",
       "      <td>2817</td>\n",
       "      <td>4</td>\n",
       "      <td>40</td>\n",
       "      <td>0.014200</td>\n",
       "    </tr>\n",
       "  </tbody>\n",
       "</table>\n",
       "<p>31441 rows × 8 columns</p>\n",
       "</div>"
      ],
      "text/plain": [
       "              Country_code        Country WHO_region  New_cases  \\\n",
       "Date_reported                                                     \n",
       "2020-01-11              CN          China       WPRO         41   \n",
       "2020-01-12              CN          China       WPRO          0   \n",
       "2020-01-13              TH       Thailand      SEARO          1   \n",
       "2020-01-13              CN          China       WPRO          0   \n",
       "2020-01-14              TH       Thailand      SEARO          0   \n",
       "...                    ...            ...        ...        ...   \n",
       "2020-07-29              HT          Haiti       AMRO         25   \n",
       "2020-07-29              GY         Guyana       AMRO         19   \n",
       "2020-07-29              GW  Guinea-Bissau       AFRO          0   \n",
       "2020-07-29              AM        Armenia       EURO        308   \n",
       "2020-07-29              ZW       Zimbabwe       AFRO        113   \n",
       "\n",
       "               Cumulative_cases  New_deaths  Cumulative_deaths  Mortality  \n",
       "Date_reported                                                              \n",
       "2020-01-11                   41           1                  1   0.024390  \n",
       "2020-01-12                   41           0                  1   0.024390  \n",
       "2020-01-13                    1           0                  0   0.000000  \n",
       "2020-01-13                   41           0                  1   0.024390  \n",
       "2020-01-14                    1           0                  0   0.000000  \n",
       "...                         ...         ...                ...        ...  \n",
       "2020-07-29                 7340           1                158   0.021526  \n",
       "2020-07-29                  389           0                 20   0.051414  \n",
       "2020-07-29                 1954           0                 26   0.013306  \n",
       "2020-07-29                37937           4                723   0.019058  \n",
       "2020-07-29                 2817           4                 40   0.014200  \n",
       "\n",
       "[31441 rows x 8 columns]"
      ]
     },
     "execution_count": 74,
     "metadata": {},
     "output_type": "execute_result"
    }
   ],
   "source": [
    "df['Mortality'] = df.Cumulative_deaths / df.Cumulative_cases\n",
    "df"
   ]
  },
  {
   "cell_type": "code",
   "execution_count": 75,
   "metadata": {},
   "outputs": [
    {
     "data": {
      "text/plain": [
       "1.6886792452830188"
      ]
     },
     "execution_count": 75,
     "metadata": {},
     "output_type": "execute_result"
    }
   ],
   "source": [
    "df.Mortality.max()"
   ]
  },
  {
   "cell_type": "code",
   "execution_count": 76,
   "metadata": {},
   "outputs": [
    {
     "data": {
      "text/plain": [
       "Timestamp('2020-03-23 00:00:00')"
      ]
     },
     "execution_count": 76,
     "metadata": {},
     "output_type": "execute_result"
    }
   ],
   "source": [
    "df.Mortality.idxmax()"
   ]
  },
  {
   "cell_type": "code",
   "execution_count": 77,
   "metadata": {},
   "outputs": [
    {
     "data": {
      "text/html": [
       "<div>\n",
       "<style scoped>\n",
       "    .dataframe tbody tr th:only-of-type {\n",
       "        vertical-align: middle;\n",
       "    }\n",
       "\n",
       "    .dataframe tbody tr th {\n",
       "        vertical-align: top;\n",
       "    }\n",
       "\n",
       "    .dataframe thead th {\n",
       "        text-align: right;\n",
       "    }\n",
       "</style>\n",
       "<table border=\"1\" class=\"dataframe\">\n",
       "  <thead>\n",
       "    <tr style=\"text-align: right;\">\n",
       "      <th></th>\n",
       "      <th>Country_code</th>\n",
       "      <th>Country</th>\n",
       "      <th>WHO_region</th>\n",
       "      <th>New_cases</th>\n",
       "      <th>Cumulative_cases</th>\n",
       "      <th>New_deaths</th>\n",
       "      <th>Cumulative_deaths</th>\n",
       "      <th>Mortality</th>\n",
       "    </tr>\n",
       "    <tr>\n",
       "      <th>Date_reported</th>\n",
       "      <th></th>\n",
       "      <th></th>\n",
       "      <th></th>\n",
       "      <th></th>\n",
       "      <th></th>\n",
       "      <th></th>\n",
       "      <th></th>\n",
       "      <th></th>\n",
       "    </tr>\n",
       "  </thead>\n",
       "  <tbody>\n",
       "    <tr>\n",
       "      <th>2020-03-23</th>\n",
       "      <td>YT</td>\n",
       "      <td>Mayotte</td>\n",
       "      <td>AFRO</td>\n",
       "      <td>3</td>\n",
       "      <td>14</td>\n",
       "      <td>0</td>\n",
       "      <td>0</td>\n",
       "      <td>0.000000</td>\n",
       "    </tr>\n",
       "    <tr>\n",
       "      <th>2020-03-23</th>\n",
       "      <td>NaN</td>\n",
       "      <td>Namibia</td>\n",
       "      <td>AFRO</td>\n",
       "      <td>0</td>\n",
       "      <td>3</td>\n",
       "      <td>0</td>\n",
       "      <td>0</td>\n",
       "      <td>0.000000</td>\n",
       "    </tr>\n",
       "    <tr>\n",
       "      <th>2020-03-23</th>\n",
       "      <td>MX</td>\n",
       "      <td>Mexico</td>\n",
       "      <td>AMRO</td>\n",
       "      <td>87</td>\n",
       "      <td>251</td>\n",
       "      <td>1</td>\n",
       "      <td>2</td>\n",
       "      <td>0.007968</td>\n",
       "    </tr>\n",
       "    <tr>\n",
       "      <th>2020-03-23</th>\n",
       "      <td>MC</td>\n",
       "      <td>Monaco</td>\n",
       "      <td>EURO</td>\n",
       "      <td>73</td>\n",
       "      <td>91</td>\n",
       "      <td>0</td>\n",
       "      <td>0</td>\n",
       "      <td>0.000000</td>\n",
       "    </tr>\n",
       "    <tr>\n",
       "      <th>2020-03-23</th>\n",
       "      <td>CF</td>\n",
       "      <td>Central African Republic</td>\n",
       "      <td>AFRO</td>\n",
       "      <td>1</td>\n",
       "      <td>4</td>\n",
       "      <td>0</td>\n",
       "      <td>0</td>\n",
       "      <td>0.000000</td>\n",
       "    </tr>\n",
       "    <tr>\n",
       "      <th>...</th>\n",
       "      <td>...</td>\n",
       "      <td>...</td>\n",
       "      <td>...</td>\n",
       "      <td>...</td>\n",
       "      <td>...</td>\n",
       "      <td>...</td>\n",
       "      <td>...</td>\n",
       "      <td>...</td>\n",
       "    </tr>\n",
       "    <tr>\n",
       "      <th>2020-03-23</th>\n",
       "      <td>NG</td>\n",
       "      <td>Nigeria</td>\n",
       "      <td>AFRO</td>\n",
       "      <td>0</td>\n",
       "      <td>22</td>\n",
       "      <td>0</td>\n",
       "      <td>0</td>\n",
       "      <td>0.000000</td>\n",
       "    </tr>\n",
       "    <tr>\n",
       "      <th>2020-03-23</th>\n",
       "      <td>BG</td>\n",
       "      <td>Bulgaria</td>\n",
       "      <td>EURO</td>\n",
       "      <td>22</td>\n",
       "      <td>185</td>\n",
       "      <td>0</td>\n",
       "      <td>3</td>\n",
       "      <td>0.016216</td>\n",
       "    </tr>\n",
       "    <tr>\n",
       "      <th>2020-03-23</th>\n",
       "      <td>KW</td>\n",
       "      <td>Kuwait</td>\n",
       "      <td>EMRO</td>\n",
       "      <td>1</td>\n",
       "      <td>189</td>\n",
       "      <td>0</td>\n",
       "      <td>0</td>\n",
       "      <td>0.000000</td>\n",
       "    </tr>\n",
       "    <tr>\n",
       "      <th>2020-03-23</th>\n",
       "      <td>TT</td>\n",
       "      <td>Trinidad and Tobago</td>\n",
       "      <td>AMRO</td>\n",
       "      <td>41</td>\n",
       "      <td>50</td>\n",
       "      <td>0</td>\n",
       "      <td>0</td>\n",
       "      <td>0.000000</td>\n",
       "    </tr>\n",
       "    <tr>\n",
       "      <th>2020-03-23</th>\n",
       "      <td>MV</td>\n",
       "      <td>Maldives</td>\n",
       "      <td>SEARO</td>\n",
       "      <td>0</td>\n",
       "      <td>13</td>\n",
       "      <td>0</td>\n",
       "      <td>0</td>\n",
       "      <td>0.000000</td>\n",
       "    </tr>\n",
       "  </tbody>\n",
       "</table>\n",
       "<p>191 rows × 8 columns</p>\n",
       "</div>"
      ],
      "text/plain": [
       "              Country_code                   Country WHO_region  New_cases  \\\n",
       "Date_reported                                                                \n",
       "2020-03-23              YT                   Mayotte       AFRO          3   \n",
       "2020-03-23             NaN                   Namibia       AFRO          0   \n",
       "2020-03-23              MX                    Mexico       AMRO         87   \n",
       "2020-03-23              MC                    Monaco       EURO         73   \n",
       "2020-03-23              CF  Central African Republic       AFRO          1   \n",
       "...                    ...                       ...        ...        ...   \n",
       "2020-03-23              NG                   Nigeria       AFRO          0   \n",
       "2020-03-23              BG                  Bulgaria       EURO         22   \n",
       "2020-03-23              KW                    Kuwait       EMRO          1   \n",
       "2020-03-23              TT       Trinidad and Tobago       AMRO         41   \n",
       "2020-03-23              MV                  Maldives      SEARO          0   \n",
       "\n",
       "               Cumulative_cases  New_deaths  Cumulative_deaths  Mortality  \n",
       "Date_reported                                                              \n",
       "2020-03-23                   14           0                  0   0.000000  \n",
       "2020-03-23                    3           0                  0   0.000000  \n",
       "2020-03-23                  251           1                  2   0.007968  \n",
       "2020-03-23                   91           0                  0   0.000000  \n",
       "2020-03-23                    4           0                  0   0.000000  \n",
       "...                         ...         ...                ...        ...  \n",
       "2020-03-23                   22           0                  0   0.000000  \n",
       "2020-03-23                  185           0                  3   0.016216  \n",
       "2020-03-23                  189           0                  0   0.000000  \n",
       "2020-03-23                   50           0                  0   0.000000  \n",
       "2020-03-23                   13           0                  0   0.000000  \n",
       "\n",
       "[191 rows x 8 columns]"
      ]
     },
     "execution_count": 77,
     "metadata": {},
     "output_type": "execute_result"
    }
   ],
   "source": [
    "df.loc[df.Mortality.idxmax()]"
   ]
  },
  {
   "cell_type": "code",
   "execution_count": 78,
   "metadata": {},
   "outputs": [
    {
     "data": {
      "text/plain": [
       "False"
      ]
     },
     "execution_count": 78,
     "metadata": {},
     "output_type": "execute_result"
    }
   ],
   "source": [
    "df.index.is_unique"
   ]
  },
  {
   "cell_type": "markdown",
   "metadata": {},
   "source": [
    "### Multiindex DataFrame"
   ]
  },
  {
   "cell_type": "code",
   "execution_count": 79,
   "metadata": {},
   "outputs": [
    {
     "data": {
      "text/html": [
       "<div>\n",
       "<style scoped>\n",
       "    .dataframe tbody tr th:only-of-type {\n",
       "        vertical-align: middle;\n",
       "    }\n",
       "\n",
       "    .dataframe tbody tr th {\n",
       "        vertical-align: top;\n",
       "    }\n",
       "\n",
       "    .dataframe thead th {\n",
       "        text-align: right;\n",
       "    }\n",
       "</style>\n",
       "<table border=\"1\" class=\"dataframe\">\n",
       "  <thead>\n",
       "    <tr style=\"text-align: right;\">\n",
       "      <th></th>\n",
       "      <th></th>\n",
       "      <th>Country_code</th>\n",
       "      <th>WHO_region</th>\n",
       "      <th>New_cases</th>\n",
       "      <th>Cumulative_cases</th>\n",
       "      <th>New_deaths</th>\n",
       "      <th>Cumulative_deaths</th>\n",
       "      <th>Mortality</th>\n",
       "    </tr>\n",
       "    <tr>\n",
       "      <th>Date_reported</th>\n",
       "      <th>Country</th>\n",
       "      <th></th>\n",
       "      <th></th>\n",
       "      <th></th>\n",
       "      <th></th>\n",
       "      <th></th>\n",
       "      <th></th>\n",
       "      <th></th>\n",
       "    </tr>\n",
       "  </thead>\n",
       "  <tbody>\n",
       "    <tr>\n",
       "      <th>2020-01-11</th>\n",
       "      <th>China</th>\n",
       "      <td>CN</td>\n",
       "      <td>WPRO</td>\n",
       "      <td>41</td>\n",
       "      <td>41</td>\n",
       "      <td>1</td>\n",
       "      <td>1</td>\n",
       "      <td>0.024390</td>\n",
       "    </tr>\n",
       "    <tr>\n",
       "      <th>2020-01-12</th>\n",
       "      <th>China</th>\n",
       "      <td>CN</td>\n",
       "      <td>WPRO</td>\n",
       "      <td>0</td>\n",
       "      <td>41</td>\n",
       "      <td>0</td>\n",
       "      <td>1</td>\n",
       "      <td>0.024390</td>\n",
       "    </tr>\n",
       "    <tr>\n",
       "      <th rowspan=\"2\" valign=\"top\">2020-01-13</th>\n",
       "      <th>China</th>\n",
       "      <td>CN</td>\n",
       "      <td>WPRO</td>\n",
       "      <td>0</td>\n",
       "      <td>41</td>\n",
       "      <td>0</td>\n",
       "      <td>1</td>\n",
       "      <td>0.024390</td>\n",
       "    </tr>\n",
       "    <tr>\n",
       "      <th>Thailand</th>\n",
       "      <td>TH</td>\n",
       "      <td>SEARO</td>\n",
       "      <td>1</td>\n",
       "      <td>1</td>\n",
       "      <td>0</td>\n",
       "      <td>0</td>\n",
       "      <td>0.000000</td>\n",
       "    </tr>\n",
       "    <tr>\n",
       "      <th>2020-01-14</th>\n",
       "      <th>China</th>\n",
       "      <td>CN</td>\n",
       "      <td>WPRO</td>\n",
       "      <td>0</td>\n",
       "      <td>41</td>\n",
       "      <td>0</td>\n",
       "      <td>1</td>\n",
       "      <td>0.024390</td>\n",
       "    </tr>\n",
       "    <tr>\n",
       "      <th>...</th>\n",
       "      <th>...</th>\n",
       "      <td>...</td>\n",
       "      <td>...</td>\n",
       "      <td>...</td>\n",
       "      <td>...</td>\n",
       "      <td>...</td>\n",
       "      <td>...</td>\n",
       "      <td>...</td>\n",
       "    </tr>\n",
       "    <tr>\n",
       "      <th rowspan=\"5\" valign=\"top\">2020-07-29</th>\n",
       "      <th>Viet Nam</th>\n",
       "      <td>VN</td>\n",
       "      <td>WPRO</td>\n",
       "      <td>15</td>\n",
       "      <td>446</td>\n",
       "      <td>0</td>\n",
       "      <td>0</td>\n",
       "      <td>0.000000</td>\n",
       "    </tr>\n",
       "    <tr>\n",
       "      <th>Yemen</th>\n",
       "      <td>YE</td>\n",
       "      <td>EMRO</td>\n",
       "      <td>12</td>\n",
       "      <td>1707</td>\n",
       "      <td>1</td>\n",
       "      <td>485</td>\n",
       "      <td>0.284124</td>\n",
       "    </tr>\n",
       "    <tr>\n",
       "      <th>Zambia</th>\n",
       "      <td>ZM</td>\n",
       "      <td>AFRO</td>\n",
       "      <td>450</td>\n",
       "      <td>5002</td>\n",
       "      <td>2</td>\n",
       "      <td>142</td>\n",
       "      <td>0.028389</td>\n",
       "    </tr>\n",
       "    <tr>\n",
       "      <th>Zimbabwe</th>\n",
       "      <td>ZW</td>\n",
       "      <td>AFRO</td>\n",
       "      <td>113</td>\n",
       "      <td>2817</td>\n",
       "      <td>4</td>\n",
       "      <td>40</td>\n",
       "      <td>0.014200</td>\n",
       "    </tr>\n",
       "    <tr>\n",
       "      <th>occupied Palestinian territory, including east Jerusalem</th>\n",
       "      <td>PS</td>\n",
       "      <td>EMRO</td>\n",
       "      <td>481</td>\n",
       "      <td>13938</td>\n",
       "      <td>1</td>\n",
       "      <td>81</td>\n",
       "      <td>0.005811</td>\n",
       "    </tr>\n",
       "  </tbody>\n",
       "</table>\n",
       "<p>31441 rows × 7 columns</p>\n",
       "</div>"
      ],
      "text/plain": [
       "                                                                 Country_code  \\\n",
       "Date_reported Country                                                           \n",
       "2020-01-11    China                                                        CN   \n",
       "2020-01-12    China                                                        CN   \n",
       "2020-01-13    China                                                        CN   \n",
       "              Thailand                                                     TH   \n",
       "2020-01-14    China                                                        CN   \n",
       "...                                                                       ...   \n",
       "2020-07-29    Viet Nam                                                     VN   \n",
       "              Yemen                                                        YE   \n",
       "              Zambia                                                       ZM   \n",
       "              Zimbabwe                                                     ZW   \n",
       "              occupied Palestinian territory, including east ...           PS   \n",
       "\n",
       "                                                                 WHO_region  \\\n",
       "Date_reported Country                                                         \n",
       "2020-01-11    China                                                    WPRO   \n",
       "2020-01-12    China                                                    WPRO   \n",
       "2020-01-13    China                                                    WPRO   \n",
       "              Thailand                                                SEARO   \n",
       "2020-01-14    China                                                    WPRO   \n",
       "...                                                                     ...   \n",
       "2020-07-29    Viet Nam                                                 WPRO   \n",
       "              Yemen                                                    EMRO   \n",
       "              Zambia                                                   AFRO   \n",
       "              Zimbabwe                                                 AFRO   \n",
       "              occupied Palestinian territory, including east ...       EMRO   \n",
       "\n",
       "                                                                  New_cases  \\\n",
       "Date_reported Country                                                         \n",
       "2020-01-11    China                                                      41   \n",
       "2020-01-12    China                                                       0   \n",
       "2020-01-13    China                                                       0   \n",
       "              Thailand                                                    1   \n",
       "2020-01-14    China                                                       0   \n",
       "...                                                                     ...   \n",
       "2020-07-29    Viet Nam                                                   15   \n",
       "              Yemen                                                      12   \n",
       "              Zambia                                                    450   \n",
       "              Zimbabwe                                                  113   \n",
       "              occupied Palestinian territory, including east ...        481   \n",
       "\n",
       "                                                                  Cumulative_cases  \\\n",
       "Date_reported Country                                                                \n",
       "2020-01-11    China                                                             41   \n",
       "2020-01-12    China                                                             41   \n",
       "2020-01-13    China                                                             41   \n",
       "              Thailand                                                           1   \n",
       "2020-01-14    China                                                             41   \n",
       "...                                                                            ...   \n",
       "2020-07-29    Viet Nam                                                         446   \n",
       "              Yemen                                                           1707   \n",
       "              Zambia                                                          5002   \n",
       "              Zimbabwe                                                        2817   \n",
       "              occupied Palestinian territory, including east ...             13938   \n",
       "\n",
       "                                                                  New_deaths  \\\n",
       "Date_reported Country                                                          \n",
       "2020-01-11    China                                                        1   \n",
       "2020-01-12    China                                                        0   \n",
       "2020-01-13    China                                                        0   \n",
       "              Thailand                                                     0   \n",
       "2020-01-14    China                                                        0   \n",
       "...                                                                      ...   \n",
       "2020-07-29    Viet Nam                                                     0   \n",
       "              Yemen                                                        1   \n",
       "              Zambia                                                       2   \n",
       "              Zimbabwe                                                     4   \n",
       "              occupied Palestinian territory, including east ...           1   \n",
       "\n",
       "                                                                  Cumulative_deaths  \\\n",
       "Date_reported Country                                                                 \n",
       "2020-01-11    China                                                               1   \n",
       "2020-01-12    China                                                               1   \n",
       "2020-01-13    China                                                               1   \n",
       "              Thailand                                                            0   \n",
       "2020-01-14    China                                                               1   \n",
       "...                                                                             ...   \n",
       "2020-07-29    Viet Nam                                                            0   \n",
       "              Yemen                                                             485   \n",
       "              Zambia                                                            142   \n",
       "              Zimbabwe                                                           40   \n",
       "              occupied Palestinian territory, including east ...                 81   \n",
       "\n",
       "                                                                  Mortality  \n",
       "Date_reported Country                                                        \n",
       "2020-01-11    China                                                0.024390  \n",
       "2020-01-12    China                                                0.024390  \n",
       "2020-01-13    China                                                0.024390  \n",
       "              Thailand                                             0.000000  \n",
       "2020-01-14    China                                                0.024390  \n",
       "...                                                                     ...  \n",
       "2020-07-29    Viet Nam                                             0.000000  \n",
       "              Yemen                                                0.284124  \n",
       "              Zambia                                               0.028389  \n",
       "              Zimbabwe                                             0.014200  \n",
       "              occupied Palestinian territory, including east ...   0.005811  \n",
       "\n",
       "[31441 rows x 7 columns]"
      ]
     },
     "execution_count": 79,
     "metadata": {},
     "output_type": "execute_result"
    }
   ],
   "source": [
    "df2 = df.set_index('Country', append=True).sort_index()\n",
    "df2"
   ]
  },
  {
   "cell_type": "code",
   "execution_count": 80,
   "metadata": {},
   "outputs": [
    {
     "data": {
      "text/plain": [
       "True"
      ]
     },
     "execution_count": 80,
     "metadata": {},
     "output_type": "execute_result"
    }
   ],
   "source": [
    "df2.index.is_unique"
   ]
  },
  {
   "cell_type": "code",
   "execution_count": 81,
   "metadata": {},
   "outputs": [
    {
     "data": {
      "text/plain": [
       "(Timestamp('2020-03-23 00:00:00'), 'Netherlands')"
      ]
     },
     "execution_count": 81,
     "metadata": {},
     "output_type": "execute_result"
    }
   ],
   "source": [
    "df2.Mortality.idxmax()"
   ]
  },
  {
   "cell_type": "code",
   "execution_count": 82,
   "metadata": {},
   "outputs": [
    {
     "data": {
      "text/plain": [
       "Country_code              NL\n",
       "WHO_region              EURO\n",
       "New_cases              -3525\n",
       "Cumulative_cases         106\n",
       "New_deaths                43\n",
       "Cumulative_deaths        179\n",
       "Mortality            1.68868\n",
       "Name: (2020-03-23 00:00:00, Netherlands), dtype: object"
      ]
     },
     "execution_count": 82,
     "metadata": {},
     "output_type": "execute_result"
    }
   ],
   "source": [
    "df2.loc[df2.Mortality.idxmax()]"
   ]
  },
  {
   "cell_type": "code",
   "execution_count": 83,
   "metadata": {},
   "outputs": [
    {
     "data": {
      "text/html": [
       "<div>\n",
       "<style scoped>\n",
       "    .dataframe tbody tr th:only-of-type {\n",
       "        vertical-align: middle;\n",
       "    }\n",
       "\n",
       "    .dataframe tbody tr th {\n",
       "        vertical-align: top;\n",
       "    }\n",
       "\n",
       "    .dataframe thead th {\n",
       "        text-align: right;\n",
       "    }\n",
       "</style>\n",
       "<table border=\"1\" class=\"dataframe\">\n",
       "  <thead>\n",
       "    <tr style=\"text-align: right;\">\n",
       "      <th></th>\n",
       "      <th></th>\n",
       "      <th>Country_code</th>\n",
       "      <th>WHO_region</th>\n",
       "      <th>New_cases</th>\n",
       "      <th>Cumulative_cases</th>\n",
       "      <th>New_deaths</th>\n",
       "      <th>Cumulative_deaths</th>\n",
       "      <th>Mortality</th>\n",
       "    </tr>\n",
       "    <tr>\n",
       "      <th>Date_reported</th>\n",
       "      <th>Country</th>\n",
       "      <th></th>\n",
       "      <th></th>\n",
       "      <th></th>\n",
       "      <th></th>\n",
       "      <th></th>\n",
       "      <th></th>\n",
       "      <th></th>\n",
       "    </tr>\n",
       "  </thead>\n",
       "  <tbody>\n",
       "    <tr>\n",
       "      <th>2020-01-28</th>\n",
       "      <th>Germany</th>\n",
       "      <td>DE</td>\n",
       "      <td>EURO</td>\n",
       "      <td>4</td>\n",
       "      <td>4</td>\n",
       "      <td>0</td>\n",
       "      <td>0</td>\n",
       "      <td>0.000000</td>\n",
       "    </tr>\n",
       "    <tr>\n",
       "      <th>2020-01-29</th>\n",
       "      <th>Germany</th>\n",
       "      <td>DE</td>\n",
       "      <td>EURO</td>\n",
       "      <td>0</td>\n",
       "      <td>4</td>\n",
       "      <td>0</td>\n",
       "      <td>0</td>\n",
       "      <td>0.000000</td>\n",
       "    </tr>\n",
       "    <tr>\n",
       "      <th>2020-01-30</th>\n",
       "      <th>Germany</th>\n",
       "      <td>DE</td>\n",
       "      <td>EURO</td>\n",
       "      <td>0</td>\n",
       "      <td>4</td>\n",
       "      <td>0</td>\n",
       "      <td>0</td>\n",
       "      <td>0.000000</td>\n",
       "    </tr>\n",
       "    <tr>\n",
       "      <th>2020-01-31</th>\n",
       "      <th>Germany</th>\n",
       "      <td>DE</td>\n",
       "      <td>EURO</td>\n",
       "      <td>3</td>\n",
       "      <td>7</td>\n",
       "      <td>0</td>\n",
       "      <td>0</td>\n",
       "      <td>0.000000</td>\n",
       "    </tr>\n",
       "    <tr>\n",
       "      <th>2020-02-01</th>\n",
       "      <th>Germany</th>\n",
       "      <td>DE</td>\n",
       "      <td>EURO</td>\n",
       "      <td>1</td>\n",
       "      <td>8</td>\n",
       "      <td>0</td>\n",
       "      <td>0</td>\n",
       "      <td>0.000000</td>\n",
       "    </tr>\n",
       "    <tr>\n",
       "      <th>...</th>\n",
       "      <th>...</th>\n",
       "      <td>...</td>\n",
       "      <td>...</td>\n",
       "      <td>...</td>\n",
       "      <td>...</td>\n",
       "      <td>...</td>\n",
       "      <td>...</td>\n",
       "      <td>...</td>\n",
       "    </tr>\n",
       "    <tr>\n",
       "      <th>2020-07-25</th>\n",
       "      <th>Germany</th>\n",
       "      <td>DE</td>\n",
       "      <td>EURO</td>\n",
       "      <td>781</td>\n",
       "      <td>204964</td>\n",
       "      <td>7</td>\n",
       "      <td>9118</td>\n",
       "      <td>0.044486</td>\n",
       "    </tr>\n",
       "    <tr>\n",
       "      <th>2020-07-26</th>\n",
       "      <th>Germany</th>\n",
       "      <td>DE</td>\n",
       "      <td>EURO</td>\n",
       "      <td>305</td>\n",
       "      <td>205269</td>\n",
       "      <td>0</td>\n",
       "      <td>9118</td>\n",
       "      <td>0.044420</td>\n",
       "    </tr>\n",
       "    <tr>\n",
       "      <th>2020-07-27</th>\n",
       "      <th>Germany</th>\n",
       "      <td>DE</td>\n",
       "      <td>EURO</td>\n",
       "      <td>340</td>\n",
       "      <td>205609</td>\n",
       "      <td>0</td>\n",
       "      <td>9118</td>\n",
       "      <td>0.044346</td>\n",
       "    </tr>\n",
       "    <tr>\n",
       "      <th>2020-07-28</th>\n",
       "      <th>Germany</th>\n",
       "      <td>DE</td>\n",
       "      <td>EURO</td>\n",
       "      <td>633</td>\n",
       "      <td>206242</td>\n",
       "      <td>4</td>\n",
       "      <td>9122</td>\n",
       "      <td>0.044230</td>\n",
       "    </tr>\n",
       "    <tr>\n",
       "      <th>2020-07-29</th>\n",
       "      <th>Germany</th>\n",
       "      <td>DE</td>\n",
       "      <td>EURO</td>\n",
       "      <td>684</td>\n",
       "      <td>206926</td>\n",
       "      <td>6</td>\n",
       "      <td>9128</td>\n",
       "      <td>0.044112</td>\n",
       "    </tr>\n",
       "  </tbody>\n",
       "</table>\n",
       "<p>184 rows × 7 columns</p>\n",
       "</div>"
      ],
      "text/plain": [
       "                      Country_code WHO_region  New_cases  Cumulative_cases  \\\n",
       "Date_reported Country                                                        \n",
       "2020-01-28    Germany           DE       EURO          4                 4   \n",
       "2020-01-29    Germany           DE       EURO          0                 4   \n",
       "2020-01-30    Germany           DE       EURO          0                 4   \n",
       "2020-01-31    Germany           DE       EURO          3                 7   \n",
       "2020-02-01    Germany           DE       EURO          1                 8   \n",
       "...                            ...        ...        ...               ...   \n",
       "2020-07-25    Germany           DE       EURO        781            204964   \n",
       "2020-07-26    Germany           DE       EURO        305            205269   \n",
       "2020-07-27    Germany           DE       EURO        340            205609   \n",
       "2020-07-28    Germany           DE       EURO        633            206242   \n",
       "2020-07-29    Germany           DE       EURO        684            206926   \n",
       "\n",
       "                       New_deaths  Cumulative_deaths  Mortality  \n",
       "Date_reported Country                                            \n",
       "2020-01-28    Germany           0                  0   0.000000  \n",
       "2020-01-29    Germany           0                  0   0.000000  \n",
       "2020-01-30    Germany           0                  0   0.000000  \n",
       "2020-01-31    Germany           0                  0   0.000000  \n",
       "2020-02-01    Germany           0                  0   0.000000  \n",
       "...                           ...                ...        ...  \n",
       "2020-07-25    Germany           7               9118   0.044486  \n",
       "2020-07-26    Germany           0               9118   0.044420  \n",
       "2020-07-27    Germany           0               9118   0.044346  \n",
       "2020-07-28    Germany           4               9122   0.044230  \n",
       "2020-07-29    Germany           6               9128   0.044112  \n",
       "\n",
       "[184 rows x 7 columns]"
      ]
     },
     "execution_count": 83,
     "metadata": {},
     "output_type": "execute_result"
    }
   ],
   "source": [
    "df2.loc[(slice(None), 'Germany'), :]  # you have to specify both axes here!"
   ]
  },
  {
   "cell_type": "code",
   "execution_count": 84,
   "metadata": {},
   "outputs": [
    {
     "data": {
      "text/html": [
       "<div>\n",
       "<style scoped>\n",
       "    .dataframe tbody tr th:only-of-type {\n",
       "        vertical-align: middle;\n",
       "    }\n",
       "\n",
       "    .dataframe tbody tr th {\n",
       "        vertical-align: top;\n",
       "    }\n",
       "\n",
       "    .dataframe thead th {\n",
       "        text-align: right;\n",
       "    }\n",
       "</style>\n",
       "<table border=\"1\" class=\"dataframe\">\n",
       "  <thead>\n",
       "    <tr style=\"text-align: right;\">\n",
       "      <th></th>\n",
       "      <th>Country_code</th>\n",
       "      <th>WHO_region</th>\n",
       "      <th>New_cases</th>\n",
       "      <th>Cumulative_cases</th>\n",
       "      <th>New_deaths</th>\n",
       "      <th>Cumulative_deaths</th>\n",
       "      <th>Mortality</th>\n",
       "    </tr>\n",
       "    <tr>\n",
       "      <th>Date_reported</th>\n",
       "      <th></th>\n",
       "      <th></th>\n",
       "      <th></th>\n",
       "      <th></th>\n",
       "      <th></th>\n",
       "      <th></th>\n",
       "      <th></th>\n",
       "    </tr>\n",
       "  </thead>\n",
       "  <tbody>\n",
       "    <tr>\n",
       "      <th>2020-04-01</th>\n",
       "      <td>DE</td>\n",
       "      <td>EURO</td>\n",
       "      <td>5453</td>\n",
       "      <td>67366</td>\n",
       "      <td>149</td>\n",
       "      <td>732</td>\n",
       "      <td>0.010866</td>\n",
       "    </tr>\n",
       "    <tr>\n",
       "      <th>2020-04-02</th>\n",
       "      <td>DE</td>\n",
       "      <td>EURO</td>\n",
       "      <td>6156</td>\n",
       "      <td>73522</td>\n",
       "      <td>140</td>\n",
       "      <td>872</td>\n",
       "      <td>0.011860</td>\n",
       "    </tr>\n",
       "    <tr>\n",
       "      <th>2020-04-03</th>\n",
       "      <td>DE</td>\n",
       "      <td>EURO</td>\n",
       "      <td>6174</td>\n",
       "      <td>79696</td>\n",
       "      <td>145</td>\n",
       "      <td>1017</td>\n",
       "      <td>0.012761</td>\n",
       "    </tr>\n",
       "    <tr>\n",
       "      <th>2020-04-04</th>\n",
       "      <td>DE</td>\n",
       "      <td>EURO</td>\n",
       "      <td>6082</td>\n",
       "      <td>85778</td>\n",
       "      <td>141</td>\n",
       "      <td>1158</td>\n",
       "      <td>0.013500</td>\n",
       "    </tr>\n",
       "    <tr>\n",
       "      <th>2020-04-05</th>\n",
       "      <td>DE</td>\n",
       "      <td>EURO</td>\n",
       "      <td>5936</td>\n",
       "      <td>91714</td>\n",
       "      <td>184</td>\n",
       "      <td>1342</td>\n",
       "      <td>0.014632</td>\n",
       "    </tr>\n",
       "    <tr>\n",
       "      <th>2020-04-06</th>\n",
       "      <td>DE</td>\n",
       "      <td>EURO</td>\n",
       "      <td>3677</td>\n",
       "      <td>95391</td>\n",
       "      <td>92</td>\n",
       "      <td>1434</td>\n",
       "      <td>0.015033</td>\n",
       "    </tr>\n",
       "    <tr>\n",
       "      <th>2020-04-07</th>\n",
       "      <td>DE</td>\n",
       "      <td>EURO</td>\n",
       "      <td>3834</td>\n",
       "      <td>99225</td>\n",
       "      <td>173</td>\n",
       "      <td>1607</td>\n",
       "      <td>0.016196</td>\n",
       "    </tr>\n",
       "    <tr>\n",
       "      <th>2020-04-08</th>\n",
       "      <td>DE</td>\n",
       "      <td>EURO</td>\n",
       "      <td>4003</td>\n",
       "      <td>103228</td>\n",
       "      <td>254</td>\n",
       "      <td>1861</td>\n",
       "      <td>0.018028</td>\n",
       "    </tr>\n",
       "    <tr>\n",
       "      <th>2020-04-09</th>\n",
       "      <td>DE</td>\n",
       "      <td>EURO</td>\n",
       "      <td>4974</td>\n",
       "      <td>108202</td>\n",
       "      <td>246</td>\n",
       "      <td>2107</td>\n",
       "      <td>0.019473</td>\n",
       "    </tr>\n",
       "    <tr>\n",
       "      <th>2020-04-10</th>\n",
       "      <td>DE</td>\n",
       "      <td>EURO</td>\n",
       "      <td>5323</td>\n",
       "      <td>113525</td>\n",
       "      <td>266</td>\n",
       "      <td>2373</td>\n",
       "      <td>0.020903</td>\n",
       "    </tr>\n",
       "    <tr>\n",
       "      <th>2020-04-11</th>\n",
       "      <td>DE</td>\n",
       "      <td>EURO</td>\n",
       "      <td>4133</td>\n",
       "      <td>117658</td>\n",
       "      <td>171</td>\n",
       "      <td>2544</td>\n",
       "      <td>0.021622</td>\n",
       "    </tr>\n",
       "    <tr>\n",
       "      <th>2020-04-12</th>\n",
       "      <td>DE</td>\n",
       "      <td>EURO</td>\n",
       "      <td>2821</td>\n",
       "      <td>120479</td>\n",
       "      <td>129</td>\n",
       "      <td>2673</td>\n",
       "      <td>0.022186</td>\n",
       "    </tr>\n",
       "    <tr>\n",
       "      <th>2020-04-13</th>\n",
       "      <td>DE</td>\n",
       "      <td>EURO</td>\n",
       "      <td>2537</td>\n",
       "      <td>123016</td>\n",
       "      <td>126</td>\n",
       "      <td>2799</td>\n",
       "      <td>0.022753</td>\n",
       "    </tr>\n",
       "    <tr>\n",
       "      <th>2020-04-14</th>\n",
       "      <td>DE</td>\n",
       "      <td>EURO</td>\n",
       "      <td>2082</td>\n",
       "      <td>125098</td>\n",
       "      <td>170</td>\n",
       "      <td>2969</td>\n",
       "      <td>0.023733</td>\n",
       "    </tr>\n",
       "    <tr>\n",
       "      <th>2020-04-15</th>\n",
       "      <td>DE</td>\n",
       "      <td>EURO</td>\n",
       "      <td>2486</td>\n",
       "      <td>127584</td>\n",
       "      <td>285</td>\n",
       "      <td>3254</td>\n",
       "      <td>0.025505</td>\n",
       "    </tr>\n",
       "    <tr>\n",
       "      <th>2020-04-16</th>\n",
       "      <td>DE</td>\n",
       "      <td>EURO</td>\n",
       "      <td>2866</td>\n",
       "      <td>130450</td>\n",
       "      <td>315</td>\n",
       "      <td>3569</td>\n",
       "      <td>0.027359</td>\n",
       "    </tr>\n",
       "    <tr>\n",
       "      <th>2020-04-17</th>\n",
       "      <td>DE</td>\n",
       "      <td>EURO</td>\n",
       "      <td>3380</td>\n",
       "      <td>133830</td>\n",
       "      <td>299</td>\n",
       "      <td>3868</td>\n",
       "      <td>0.028902</td>\n",
       "    </tr>\n",
       "    <tr>\n",
       "      <th>2020-04-18</th>\n",
       "      <td>DE</td>\n",
       "      <td>EURO</td>\n",
       "      <td>3609</td>\n",
       "      <td>137439</td>\n",
       "      <td>242</td>\n",
       "      <td>4110</td>\n",
       "      <td>0.029904</td>\n",
       "    </tr>\n",
       "    <tr>\n",
       "      <th>2020-04-19</th>\n",
       "      <td>DE</td>\n",
       "      <td>EURO</td>\n",
       "      <td>2458</td>\n",
       "      <td>139897</td>\n",
       "      <td>184</td>\n",
       "      <td>4294</td>\n",
       "      <td>0.030694</td>\n",
       "    </tr>\n",
       "    <tr>\n",
       "      <th>2020-04-20</th>\n",
       "      <td>DE</td>\n",
       "      <td>EURO</td>\n",
       "      <td>1775</td>\n",
       "      <td>141672</td>\n",
       "      <td>110</td>\n",
       "      <td>4404</td>\n",
       "      <td>0.031086</td>\n",
       "    </tr>\n",
       "    <tr>\n",
       "      <th>2020-04-21</th>\n",
       "      <td>DE</td>\n",
       "      <td>EURO</td>\n",
       "      <td>1785</td>\n",
       "      <td>143457</td>\n",
       "      <td>194</td>\n",
       "      <td>4598</td>\n",
       "      <td>0.032051</td>\n",
       "    </tr>\n",
       "    <tr>\n",
       "      <th>2020-04-22</th>\n",
       "      <td>DE</td>\n",
       "      <td>EURO</td>\n",
       "      <td>2237</td>\n",
       "      <td>145694</td>\n",
       "      <td>281</td>\n",
       "      <td>4879</td>\n",
       "      <td>0.033488</td>\n",
       "    </tr>\n",
       "    <tr>\n",
       "      <th>2020-04-23</th>\n",
       "      <td>DE</td>\n",
       "      <td>EURO</td>\n",
       "      <td>2352</td>\n",
       "      <td>148046</td>\n",
       "      <td>215</td>\n",
       "      <td>5094</td>\n",
       "      <td>0.034408</td>\n",
       "    </tr>\n",
       "    <tr>\n",
       "      <th>2020-04-24</th>\n",
       "      <td>DE</td>\n",
       "      <td>EURO</td>\n",
       "      <td>2337</td>\n",
       "      <td>150383</td>\n",
       "      <td>227</td>\n",
       "      <td>5321</td>\n",
       "      <td>0.035383</td>\n",
       "    </tr>\n",
       "    <tr>\n",
       "      <th>2020-04-25</th>\n",
       "      <td>DE</td>\n",
       "      <td>EURO</td>\n",
       "      <td>2055</td>\n",
       "      <td>152438</td>\n",
       "      <td>179</td>\n",
       "      <td>5500</td>\n",
       "      <td>0.036080</td>\n",
       "    </tr>\n",
       "    <tr>\n",
       "      <th>2020-04-26</th>\n",
       "      <td>DE</td>\n",
       "      <td>EURO</td>\n",
       "      <td>1737</td>\n",
       "      <td>154175</td>\n",
       "      <td>140</td>\n",
       "      <td>5640</td>\n",
       "      <td>0.036582</td>\n",
       "    </tr>\n",
       "    <tr>\n",
       "      <th>2020-04-27</th>\n",
       "      <td>DE</td>\n",
       "      <td>EURO</td>\n",
       "      <td>1018</td>\n",
       "      <td>155193</td>\n",
       "      <td>110</td>\n",
       "      <td>5750</td>\n",
       "      <td>0.037051</td>\n",
       "    </tr>\n",
       "    <tr>\n",
       "      <th>2020-04-28</th>\n",
       "      <td>DE</td>\n",
       "      <td>EURO</td>\n",
       "      <td>1144</td>\n",
       "      <td>156337</td>\n",
       "      <td>163</td>\n",
       "      <td>5913</td>\n",
       "      <td>0.037822</td>\n",
       "    </tr>\n",
       "    <tr>\n",
       "      <th>2020-04-29</th>\n",
       "      <td>DE</td>\n",
       "      <td>EURO</td>\n",
       "      <td>1304</td>\n",
       "      <td>157641</td>\n",
       "      <td>202</td>\n",
       "      <td>6115</td>\n",
       "      <td>0.038791</td>\n",
       "    </tr>\n",
       "    <tr>\n",
       "      <th>2020-04-30</th>\n",
       "      <td>DE</td>\n",
       "      <td>EURO</td>\n",
       "      <td>1478</td>\n",
       "      <td>159119</td>\n",
       "      <td>173</td>\n",
       "      <td>6288</td>\n",
       "      <td>0.039518</td>\n",
       "    </tr>\n",
       "  </tbody>\n",
       "</table>\n",
       "</div>"
      ],
      "text/plain": [
       "              Country_code WHO_region  New_cases  Cumulative_cases  \\\n",
       "Date_reported                                                        \n",
       "2020-04-01              DE       EURO       5453             67366   \n",
       "2020-04-02              DE       EURO       6156             73522   \n",
       "2020-04-03              DE       EURO       6174             79696   \n",
       "2020-04-04              DE       EURO       6082             85778   \n",
       "2020-04-05              DE       EURO       5936             91714   \n",
       "2020-04-06              DE       EURO       3677             95391   \n",
       "2020-04-07              DE       EURO       3834             99225   \n",
       "2020-04-08              DE       EURO       4003            103228   \n",
       "2020-04-09              DE       EURO       4974            108202   \n",
       "2020-04-10              DE       EURO       5323            113525   \n",
       "2020-04-11              DE       EURO       4133            117658   \n",
       "2020-04-12              DE       EURO       2821            120479   \n",
       "2020-04-13              DE       EURO       2537            123016   \n",
       "2020-04-14              DE       EURO       2082            125098   \n",
       "2020-04-15              DE       EURO       2486            127584   \n",
       "2020-04-16              DE       EURO       2866            130450   \n",
       "2020-04-17              DE       EURO       3380            133830   \n",
       "2020-04-18              DE       EURO       3609            137439   \n",
       "2020-04-19              DE       EURO       2458            139897   \n",
       "2020-04-20              DE       EURO       1775            141672   \n",
       "2020-04-21              DE       EURO       1785            143457   \n",
       "2020-04-22              DE       EURO       2237            145694   \n",
       "2020-04-23              DE       EURO       2352            148046   \n",
       "2020-04-24              DE       EURO       2337            150383   \n",
       "2020-04-25              DE       EURO       2055            152438   \n",
       "2020-04-26              DE       EURO       1737            154175   \n",
       "2020-04-27              DE       EURO       1018            155193   \n",
       "2020-04-28              DE       EURO       1144            156337   \n",
       "2020-04-29              DE       EURO       1304            157641   \n",
       "2020-04-30              DE       EURO       1478            159119   \n",
       "\n",
       "               New_deaths  Cumulative_deaths  Mortality  \n",
       "Date_reported                                            \n",
       "2020-04-01            149                732   0.010866  \n",
       "2020-04-02            140                872   0.011860  \n",
       "2020-04-03            145               1017   0.012761  \n",
       "2020-04-04            141               1158   0.013500  \n",
       "2020-04-05            184               1342   0.014632  \n",
       "2020-04-06             92               1434   0.015033  \n",
       "2020-04-07            173               1607   0.016196  \n",
       "2020-04-08            254               1861   0.018028  \n",
       "2020-04-09            246               2107   0.019473  \n",
       "2020-04-10            266               2373   0.020903  \n",
       "2020-04-11            171               2544   0.021622  \n",
       "2020-04-12            129               2673   0.022186  \n",
       "2020-04-13            126               2799   0.022753  \n",
       "2020-04-14            170               2969   0.023733  \n",
       "2020-04-15            285               3254   0.025505  \n",
       "2020-04-16            315               3569   0.027359  \n",
       "2020-04-17            299               3868   0.028902  \n",
       "2020-04-18            242               4110   0.029904  \n",
       "2020-04-19            184               4294   0.030694  \n",
       "2020-04-20            110               4404   0.031086  \n",
       "2020-04-21            194               4598   0.032051  \n",
       "2020-04-22            281               4879   0.033488  \n",
       "2020-04-23            215               5094   0.034408  \n",
       "2020-04-24            227               5321   0.035383  \n",
       "2020-04-25            179               5500   0.036080  \n",
       "2020-04-26            140               5640   0.036582  \n",
       "2020-04-27            110               5750   0.037051  \n",
       "2020-04-28            163               5913   0.037822  \n",
       "2020-04-29            202               6115   0.038791  \n",
       "2020-04-30            173               6288   0.039518  "
      ]
     },
     "execution_count": 84,
     "metadata": {},
     "output_type": "execute_result"
    }
   ],
   "source": [
    "df2.xs('Germany', level=1)['2020-04']"
   ]
  },
  {
   "cell_type": "markdown",
   "metadata": {},
   "source": [
    "## Joining 2 Series\n",
    "\n",
    "Create a plot showing New_cases Germany vs. EURO"
   ]
  },
  {
   "cell_type": "code",
   "execution_count": 85,
   "metadata": {},
   "outputs": [
    {
     "data": {
      "text/plain": [
       "Date_reported\n",
       "2020-01-28      4\n",
       "2020-01-29      0\n",
       "2020-01-30      0\n",
       "2020-01-31      3\n",
       "2020-02-01      1\n",
       "             ... \n",
       "2020-07-25    781\n",
       "2020-07-26    305\n",
       "2020-07-27    340\n",
       "2020-07-28    633\n",
       "2020-07-29    684\n",
       "Name: New cases Germany, Length: 184, dtype: int64"
      ]
     },
     "execution_count": 85,
     "metadata": {},
     "output_type": "execute_result"
    }
   ],
   "source": [
    "de = df.loc[df.Country == 'Germany', 'New_cases']\n",
    "de.name = 'New cases Germany'\n",
    "de"
   ]
  },
  {
   "cell_type": "code",
   "execution_count": 86,
   "metadata": {},
   "outputs": [
    {
     "data": {
      "text/plain": [
       "Date_reported\n",
       "2020-01-24        3\n",
       "2020-01-25        0\n",
       "2020-01-26        0\n",
       "2020-01-27        0\n",
       "2020-01-28        5\n",
       "              ...  \n",
       "2020-07-25    23768\n",
       "2020-07-26    22831\n",
       "2020-07-27    19005\n",
       "2020-07-28    21324\n",
       "2020-07-29    20993\n",
       "Name: New cases Europe, Length: 188, dtype: int64"
      ]
     },
     "execution_count": 86,
     "metadata": {},
     "output_type": "execute_result"
    }
   ],
   "source": [
    "eu = (df\n",
    "      .loc[df.WHO_region == 'EURO', 'New_cases']\n",
    "      .groupby('Date_reported')\n",
    "      .sum())\n",
    "eu.name = 'New cases Europe'      \n",
    "eu"
   ]
  },
  {
   "cell_type": "code",
   "execution_count": 87,
   "metadata": {},
   "outputs": [
    {
     "data": {
      "text/plain": [
       "Date_reported\n",
       "2020-01-24        3\n",
       "2020-01-25        0\n",
       "2020-01-26        0\n",
       "2020-01-27        0\n",
       "2020-01-28        5\n",
       "              ...  \n",
       "2020-07-25    23768\n",
       "2020-07-26    22831\n",
       "2020-07-27    19005\n",
       "2020-07-28    21324\n",
       "2020-07-29    20993\n",
       "Name: New cases Europe, Length: 188, dtype: int64"
      ]
     },
     "execution_count": 87,
     "metadata": {},
     "output_type": "execute_result"
    }
   ],
   "source": [
    "eu = (df\n",
    "      .groupby(['Date_reported', 'WHO_region'])\n",
    "      .sum()\n",
    "      .loc[(slice(None), 'EURO'), 'New_cases']\n",
    "      .droplevel('WHO_region'))\n",
    "eu.name = 'New cases Europe'     \n",
    "eu"
   ]
  },
  {
   "cell_type": "code",
   "execution_count": 88,
   "metadata": {},
   "outputs": [
    {
     "data": {
      "text/plain": [
       "<matplotlib.axes._subplots.AxesSubplot at 0x1e429798820>"
      ]
     },
     "execution_count": 88,
     "metadata": {},
     "output_type": "execute_result"
    },
    {
     "data": {
      "image/png": "[encoded data removed]",
      "text/plain": [
       "<Figure size 432x288 with 1 Axes>"
      ]
     },
     "metadata": {
      "needs_background": "light"
     },
     "output_type": "display_data"
    }
   ],
   "source": [
    "pd.concat([de, eu], axis=1).plot()"
   ]
  },
  {
   "cell_type": "code",
   "execution_count": 89,
   "metadata": {},
   "outputs": [
    {
     "data": {
      "text/plain": [
       "<matplotlib.axes._subplots.AxesSubplot at 0x1e42a71a3a0>"
      ]
     },
     "execution_count": 89,
     "metadata": {},
     "output_type": "execute_result"
    },
    {
     "data": {
      "image/png": "[encoded data removed]",
      "text/plain": [
       "<Figure size 432x288 with 1 Axes>"
      ]
     },
     "metadata": {
      "needs_background": "light"
     },
     "output_type": "display_data"
    }
   ],
   "source": [
    "pd.concat([de, eu], axis=1).rolling(window=7).mean().plot()"
   ]
  },
  {
   "cell_type": "markdown",
   "metadata": {},
   "source": [
    "## Exercises"
   ]
  },
  {
   "cell_type": "markdown",
   "metadata": {},
   "source": [
    "1. How many Corona cases have been registered in 2020-Q1 world-wide?"
   ]
  },
  {
   "cell_type": "code",
   "execution_count": 90,
   "metadata": {},
   "outputs": [
    {
     "data": {
      "text/plain": [
       "760069"
      ]
     },
     "execution_count": 90,
     "metadata": {},
     "output_type": "execute_result"
    }
   ],
   "source": [
    "df.loc['2020-03-31', 'Cumulative_cases'].sum()"
   ]
  },
  {
   "cell_type": "markdown",
   "metadata": {},
   "source": [
    "2. What was the average number of new cases in Germany over the past 30 days?"
   ]
  },
  {
   "cell_type": "code",
   "execution_count": 91,
   "metadata": {},
   "outputs": [
    {
     "data": {
      "text/plain": [
       "438.8333333333333"
      ]
     },
     "execution_count": 91,
     "metadata": {},
     "output_type": "execute_result"
    }
   ],
   "source": [
    "df.loc[df.Country == 'Germany', 'New_cases'][-30:].mean()"
   ]
  },
  {
   "cell_type": "markdown",
   "metadata": {},
   "source": [
    "3. Print: \"The number of Corona deaths in the first half of this year for Sweden was xxxx.\"  \n",
    "_(check thr print() arguments and the df.values attribute)_"
   ]
  },
  {
   "cell_type": "code",
   "execution_count": 92,
   "metadata": {},
   "outputs": [
    {
     "name": "stdout",
     "output_type": "stream",
     "text": [
      "The number of Corona deaths in the first half of this year for Sweden was 5310.\n"
     ]
    }
   ],
   "source": [
    "print('The number of Corona deaths in the first half of this year for Sweden was ',\n",
    "      df2.loc[('2020-06-30', 'Sweden'), 'Cumulative_deaths'].values[0], '.', sep='')"
   ]
  },
  {
   "cell_type": "markdown",
   "metadata": {},
   "source": [
    "4. What was the average number of new cases in Europe over the past 30 days?"
   ]
  },
  {
   "cell_type": "code",
   "execution_count": 93,
   "metadata": {},
   "outputs": [
    {
     "data": {
      "text/plain": [
       "20035.666666666668"
      ]
     },
     "execution_count": 93,
     "metadata": {},
     "output_type": "execute_result"
    }
   ],
   "source": [
    "df.loc[df.WHO_region == 'EURO', 'New_cases'].groupby('Date_reported').sum()[-30:].mean()"
   ]
  },
  {
   "cell_type": "markdown",
   "metadata": {},
   "source": [
    "5. Make a pie chart from the average number of new cases per WHO region over the past 30 days."
   ]
  },
  {
   "cell_type": "code",
   "execution_count": 95,
   "metadata": {},
   "outputs": [
    {
     "data": {
      "text/plain": [
       "<matplotlib.legend.Legend at 0x1e4299eeb80>"
      ]
     },
     "execution_count": 95,
     "metadata": {},
     "output_type": "execute_result"
    },
    {
     "data": {
      "image/png": "[encoded data removed]",
      "text/plain": [
       "<Figure size 432x288 with 1 Axes>"
      ]
     },
     "metadata": {},
     "output_type": "display_data"
    }
   ],
   "source": [
    "ax = pd.pivot_table(df, values='New_cases', index='Date_reported', columns='WHO_region', aggfunc=sum)[-30:].mean().plot(kind='pie')\n",
    "ax.legend()"
   ]
  },
  {
   "cell_type": "code",
   "execution_count": null,
   "metadata": {},
   "outputs": [],
   "source": []
  }
 ],
 "metadata": {
  "kernelspec": {
   "display_name": "Python 3",
   "language": "python",
   "name": "python3"
  },
  "language_info": {
   "codemirror_mode": {
    "name": "ipython",
    "version": 3
   },
   "file_extension": ".py",
   "mimetype": "text/x-python",
   "name": "python",
   "nbconvert_exporter": "python",
   "pygments_lexer": "ipython3",
   "version": "3.8.2"
  }
 },
 "nbformat": 4,
 "nbformat_minor": 4
}
